{
 "cells": [
  {
   "cell_type": "code",
   "execution_count": 1,
   "metadata": {
    "collapsed": true
   },
   "outputs": [],
   "source": [
    "import requests\n",
    "import pandas as pd"
   ]
  },
  {
   "cell_type": "code",
   "execution_count": 2,
   "metadata": {
    "collapsed": true
   },
   "outputs": [],
   "source": [
    "from bs4 import BeautifulSoup"
   ]
  },
  {
   "cell_type": "code",
   "execution_count": 3,
   "metadata": {
    "collapsed": true
   },
   "outputs": [],
   "source": [
    "import numpy as np"
   ]
  },
  {
   "cell_type": "code",
   "execution_count": 4,
   "metadata": {
    "collapsed": true
   },
   "outputs": [],
   "source": [
    "import time"
   ]
  },
  {
   "cell_type": "code",
   "execution_count": 5,
   "metadata": {
    "collapsed": true
   },
   "outputs": [],
   "source": [
    "%matplotlib inline\n",
    "import matplotlib.pyplot as plt\n",
    "pd.set_option('display.mpl_style', 'default') \n",
    "plt.rcParams['figure.figsize'] = (15, 5)"
   ]
  },
  {
   "cell_type": "code",
   "execution_count": 6,
   "metadata": {
    "collapsed": true
   },
   "outputs": [],
   "source": []
  },
  {
   "cell_type": "code",
   "execution_count": 7,
   "metadata": {
    "collapsed": true
   },
   "outputs": [],
   "source": []
  },
  {
   "cell_type": "markdown",
   "metadata": {},
   "source": [
    "#Scrapers Galore.\n",
    "\n",
    "The objective of this project is to create a database of all available Github repositories explicitly devoted to the development or implementation of web scrapers.\n",
    "\n",
    "This notebook is divided into five sections, each of them presents a step-by-step walkthrough of how the database was built and analyzed. \n",
    "\n",
    "**Section 1:** how the data was requested from Github's API\n",
    "\n",
    "**Section 2:** the process of cleaning the database\n",
    "\n",
    "**Section 3:** descriptive statistics\n",
    "\n",
    "**Section 4:** Classifier Algorithms applied to README docs\n",
    "\n",
    "**Section 5:** Clustering algorithms"
   ]
  },
  {
   "cell_type": "markdown",
   "metadata": {
    "collapsed": true
   },
   "source": [
    "**Please see <a href: http://ledealgorithms.tumblr.com/post/127877324429/scrapers-on-github-2008-2015> my post on this project </a> for a detailed analysis of the results**"
   ]
  },
  {
   "cell_type": "code",
   "execution_count": 28,
   "metadata": {
    "collapsed": false
   },
   "outputs": [
    {
     "data": {
      "image/jpeg": "[encoded data removed]",
      "text/plain": [
       "<IPython.core.display.Image object>"
      ]
     },
     "execution_count": 28,
     "metadata": {},
     "output_type": "execute_result"
    }
   ],
   "source": [
    "from IPython.display import Image\n",
    "Image(filename='xzibit.jpg')"
   ]
  },
  {
   "cell_type": "markdown",
   "metadata": {},
   "source": [
    "##Section 1: Working with Github's API"
   ]
  },
  {
   "cell_type": "markdown",
   "metadata": {},
   "source": [
    "GitHub's API is a very thorough archive of repositories, users and code. Authorized applications can make 30 requests per minute and a search of GitHub's repositories returns json document with a list of up to 1000 elements. However, the total amount of results from any given query may be over 1000. Therefore, for queries with 1k+ results it is necessary to make several ordered requests.\n",
    "\n",
    "I used the date of creation to segment my query. This process involved a great deal of trial and error since I didn't know how many scrapers were build for any particular interval of time.\n",
    "\n",
    "The key words for every request were 'scrape OR scraper OR scraping'. The API looked for matches in the title, description and README file of every repository between 2008 and present day. The final database has **N= 17366**"
   ]
  },
  {
   "cell_type": "code",
   "execution_count": 4,
   "metadata": {
    "collapsed": true
   },
   "outputs": [],
   "source": [
    "#scrapers up to Jan 1 2011 inclusive\n",
    "scrapers_to2011 = []\n",
    "for i in range(1,7):\n",
    "    url = \"https://api.github.com/search/repositories?q=scrape+OR+scraping+OR+scraper+created:%3C=2011-01-01&order=asc&per_page=100&page=\"+str(i)+\"&client_id=0fd964b95259ab80e38&client_secret=0fd964b95259ab80e38\"\n",
    "    req = requests.get(url).json()['items']\n",
    "    for item in req:\n",
    "        scrapers_to2011.append(item)\n",
    "    "
   ]
  },
  {
   "cell_type": "code",
   "execution_count": 5,
   "metadata": {
    "collapsed": false
   },
   "outputs": [
    {
     "data": {
      "text/plain": [
       "565"
      ]
     },
     "execution_count": 5,
     "metadata": {},
     "output_type": "execute_result"
    }
   ],
   "source": [
    "len(scrapers_to2011)"
   ]
  },
  {
   "cell_type": "code",
   "execution_count": 10,
   "metadata": {
    "collapsed": false
   },
   "outputs": [],
   "source": [
    "#2011-01-01..2012-01-01 non inclusive\n",
    "scrapers_to2012 = []\n",
    "for i in range(1,9):\n",
    "    url = \"https://api.github.com/search/repositories?q=scrape+OR+scraping+OR+scraper+created:2011-01-01..2012-01-01&order=asc&per_page=100&page=\"+str(i)+\"&client_id=0fd964b95259ab80e38&client_secret=0fd964b95259ab80e38\"\n",
    "    req = requests.get(url).json()['items']\n",
    "    for item in req:\n",
    "        scrapers_to2012.append(item)\n",
    "    "
   ]
  },
  {
   "cell_type": "code",
   "execution_count": 11,
   "metadata": {
    "collapsed": false
   },
   "outputs": [
    {
     "data": {
      "text/plain": [
       "756"
      ]
     },
     "execution_count": 11,
     "metadata": {},
     "output_type": "execute_result"
    }
   ],
   "source": [
    "len(scrapers_to2012)"
   ]
  },
  {
   "cell_type": "code",
   "execution_count": 14,
   "metadata": {
    "collapsed": false
   },
   "outputs": [
    {
     "data": {
      "text/plain": [
       "633"
      ]
     },
     "execution_count": 14,
     "metadata": {},
     "output_type": "execute_result"
    }
   ],
   "source": [
    "#2011-12-31..2012-07-01 non inclusive\n",
    "scrapers_to072012 = []\n",
    "for i in range(1,8):\n",
    "    url = \"https://api.github.com/search/repositories?q=scrape+OR+scraping+OR+scraper+created:2011-12-31..2012-07-01&order=asc&per_page=100&page=\"+str(i)+\"&client_id=0fd964b95259ab80e38&client_secret=0fd964b95259ab80e38\"\n",
    "    req = requests.get(url).json()['items']\n",
    "    for item in req:\n",
    "        scrapers_to072012.append(item)\n",
    "len(scrapers_to072012)"
   ]
  },
  {
   "cell_type": "code",
   "execution_count": 15,
   "metadata": {
    "collapsed": false
   },
   "outputs": [
    {
     "data": {
      "text/plain": [
       "915"
      ]
     },
     "execution_count": 15,
     "metadata": {},
     "output_type": "execute_result"
    }
   ],
   "source": [
    "#2012-06-30..2013-01-01 non inclusive\n",
    "scrapers_to2013 = []\n",
    "for i in range(1,11):\n",
    "    url = \"https://api.github.com/search/repositories?q=scrape+OR+scraping+OR+scraper+created:2012-06-30..2013-01-01&order=asc&per_page=100&page=\"+str(i)+\"&client_id=0fd964b95259ab80e38&client_secret=0fd964b95259ab80e38\"\n",
    "    req = requests.get(url).json()['items']\n",
    "    for item in req:\n",
    "        scrapers_to2013.append(item)\n",
    "len(scrapers_to2013)"
   ]
  },
  {
   "cell_type": "code",
   "execution_count": 17,
   "metadata": {
    "collapsed": false
   },
   "outputs": [
    {
     "data": {
      "text/plain": [
       "875"
      ]
     },
     "execution_count": 17,
     "metadata": {},
     "output_type": "execute_result"
    }
   ],
   "source": [
    "#2012-12-31..2013-05-01 non inclusive\n",
    "scrapers_to0513 = []\n",
    "for i in range(1,10):\n",
    "    url = \"https://api.github.com/search/repositories?q=scrape+OR+scraping+OR+scraper+created:2012-12-31..2013-05-01&order=asc&per_page=100&page=\"+str(i)+\"&client_id=0fd964b95259ab80e38&client_secret=0fd964b95259ab80e38\"\n",
    "    req = requests.get(url).json()['items']\n",
    "    for item in req:\n",
    "        scrapers_to0513.append(item)\n",
    "len(scrapers_to0513)"
   ]
  },
  {
   "cell_type": "code",
   "execution_count": 19,
   "metadata": {
    "collapsed": false
   },
   "outputs": [
    {
     "data": {
      "text/plain": [
       "775"
      ]
     },
     "execution_count": 19,
     "metadata": {},
     "output_type": "execute_result"
    }
   ],
   "source": [
    "#2013-04-30..2013-08-01 non inclusive\n",
    "scrapers_to0813 = []\n",
    "for i in range(1,9):\n",
    "    url = \"https://api.github.com/search/repositories?q=scrape+OR+scraping+OR+scraper+created:2013-04-30..2013-08-01&order=asc&per_page=100&page=\"+str(i)+\"&client_id=0fd964b95259ab80e38&client_secret=0fd964b95259ab80e38\"\n",
    "    req = requests.get(url).json()['items']\n",
    "    for item in req:\n",
    "        scrapers_to0813.append(item)\n",
    "len(scrapers_to0813)"
   ]
  },
  {
   "cell_type": "code",
   "execution_count": 20,
   "metadata": {
    "collapsed": false
   },
   "outputs": [
    {
     "data": {
      "text/plain": [
       "861"
      ]
     },
     "execution_count": 20,
     "metadata": {},
     "output_type": "execute_result"
    }
   ],
   "source": [
    "#2013-07-31..2013-11-01 non inclusive\n",
    "scrapers_to1113 = []\n",
    "for i in range(1,10):\n",
    "    url = \"https://api.github.com/search/repositories?q=scrape+OR+scraping+OR+scraper+created:2013-07-31..2013-11-01&order=asc&per_page=100&page=\"+str(i)+\"&client_id=0fd964b95259ab80e38&client_secret=0fd964b95259ab80e38\"\n",
    "    req = requests.get(url).json()['items']\n",
    "    for item in req:\n",
    "        scrapers_to1113.append(item)\n",
    "len(scrapers_to1113)"
   ]
  },
  {
   "cell_type": "code",
   "execution_count": 21,
   "metadata": {
    "collapsed": false
   },
   "outputs": [
    {
     "data": {
      "text/plain": [
       "990"
      ]
     },
     "execution_count": 21,
     "metadata": {},
     "output_type": "execute_result"
    }
   ],
   "source": [
    "# 2013-10-31..2014-02-01 nopn inclusive\n",
    "scrapers_to0214 = []\n",
    "for i in range(1,11):\n",
    "    url = \"https://api.github.com/search/repositories?q=scrape+OR+scraping+OR+scraper+created:2013-10-31..2014-02-01&order=asc&per_page=100&page=\"+str(i)+\"&client_id=0fd964b95259ab80e38&client_secret=0fd964b95259ab80e38\"\n",
    "    req = requests.get(url).json()['items']\n",
    "    for item in req:\n",
    "        scrapers_to0214.append(item)\n",
    "len(scrapers_to0214)"
   ]
  },
  {
   "cell_type": "code",
   "execution_count": 22,
   "metadata": {
    "collapsed": false
   },
   "outputs": [
    {
     "data": {
      "text/plain": [
       "883"
      ]
     },
     "execution_count": 22,
     "metadata": {},
     "output_type": "execute_result"
    }
   ],
   "source": [
    "# 2014-01-31..2014-04-01 non inclusive\n",
    "scrapers_to0414 = []\n",
    "for i in range(1,10):\n",
    "    url = \"https://api.github.com/search/repositories?q=scrape+OR+scraping+OR+scraper+created:2014-01-31..2014-04-01&order=asc&per_page=100&page=\"+str(i)+\"&client_id=0fd964b95259ab80e38&client_secret=0fd964b95259ab80e38\"\n",
    "    req = requests.get(url).json()['items']\n",
    "    for item in req:\n",
    "        scrapers_to0414.append(item)\n",
    "len(scrapers_to0414)"
   ]
  },
  {
   "cell_type": "code",
   "execution_count": 23,
   "metadata": {
    "collapsed": false
   },
   "outputs": [
    {
     "data": {
      "text/plain": [
       "884"
      ]
     },
     "execution_count": 23,
     "metadata": {},
     "output_type": "execute_result"
    }
   ],
   "source": [
    "#2014-03-31..2014-06-01 non inclusive\n",
    "scrapers_to0614 = []\n",
    "for i in range(1,10):\n",
    "    url = \"https://api.github.com/search/repositories?q=scrape+OR+scraping+OR+scraper+created:2014-03-31..2014-06-01&order=asc&per_page=100&page=\"+str(i)+\"&client_id=0fd964b95259ab80e38&client_secret=0fd964b95259ab80e38\"\n",
    "    req = requests.get(url).json()['items']\n",
    "    for item in req:\n",
    "        scrapers_to0614.append(item)\n",
    "len(scrapers_to0614)"
   ]
  },
  {
   "cell_type": "code",
   "execution_count": 24,
   "metadata": {
    "collapsed": false
   },
   "outputs": [
    {
     "data": {
      "text/plain": [
       "907"
      ]
     },
     "execution_count": 24,
     "metadata": {},
     "output_type": "execute_result"
    }
   ],
   "source": [
    "#2014-05-31..2014-08-01 non inclusive\n",
    "scrapers_to0814 = []\n",
    "for i in range(1,11):\n",
    "    url = \"https://api.github.com/search/repositories?q=scrape+OR+scraping+OR+scraper+created:2014-05-31..2014-08-01&order=asc&per_page=100&page=\"+str(i)+\"&client_id=0fd964b95259ab80e38&client_secret=0fd964b95259ab80e38\"\n",
    "    req = requests.get(url).json()['items']\n",
    "    for item in req:\n",
    "        scrapers_to0814.append(item)\n",
    "len(scrapers_to0814)"
   ]
  },
  {
   "cell_type": "code",
   "execution_count": 25,
   "metadata": {
    "collapsed": false
   },
   "outputs": [
    {
     "data": {
      "text/plain": [
       "933"
      ]
     },
     "execution_count": 25,
     "metadata": {},
     "output_type": "execute_result"
    }
   ],
   "source": [
    "#2014-07-31..2014-10-01 non inclusive\n",
    "scrapers_to1014 = []\n",
    "for i in range(1,11):\n",
    "    url = \"https://api.github.com/search/repositories?q=scrape+OR+scraping+OR+scraper+created:2014-07-31..2014-10-01&order=asc&per_page=100&page=\"+str(i)+\"&client_id=0fd964b95259ab80e38&client_secret=0fd964b95259ab80e38\"\n",
    "    req = requests.get(url).json()['items']\n",
    "    for item in req:\n",
    "        scrapers_to1014.append(item)\n",
    "len(scrapers_to1014)"
   ]
  },
  {
   "cell_type": "code",
   "execution_count": 29,
   "metadata": {
    "collapsed": false
   },
   "outputs": [
    {
     "data": {
      "text/plain": [
       "697"
      ]
     },
     "execution_count": 29,
     "metadata": {},
     "output_type": "execute_result"
    }
   ],
   "source": [
    "#2014-09-30..2014-11-01 non inclusive\n",
    "scrapers_to1114 = []\n",
    "for i in range(1,10):\n",
    "    url = \"https://api.github.com/search/repositories?q=scrape+OR+scraping+OR+scraper+created:2014-09-30..2014-11-01&order=asc&per_page=100&page=\"+str(i)+\"&client_id=0fd964b95259ab80e38&client_secret=0fd964b95259ab80e38\"\n",
    "    req = requests.get(url).json()['items']\n",
    "    for item in req:\n",
    "        scrapers_to1114.append(item)\n",
    "len(scrapers_to1114)"
   ]
  },
  {
   "cell_type": "code",
   "execution_count": 30,
   "metadata": {
    "collapsed": false
   },
   "outputs": [
    {
     "data": {
      "text/plain": [
       "853"
      ]
     },
     "execution_count": 30,
     "metadata": {},
     "output_type": "execute_result"
    }
   ],
   "source": [
    "#2014-10-31..2014-12-20 non inclusive\n",
    "scrapers_to1214 = []\n",
    "for i in range(1,10):\n",
    "    url = \"https://api.github.com/search/repositories?q=scrape+OR+scraping+OR+scraper+created:2014-10-31..2014-12-20&order=asc&per_page=100&page=\"+str(i)+\"&client_id=0fd964b95259ab80e38&client_secret=0fd964b95259ab80e38\"\n",
    "    req = requests.get(url).json()['items']\n",
    "    for item in req:\n",
    "        scrapers_to1214.append(item)\n",
    "len(scrapers_to1214)"
   ]
  },
  {
   "cell_type": "code",
   "execution_count": 31,
   "metadata": {
    "collapsed": false
   },
   "outputs": [
    {
     "data": {
      "text/plain": [
       "869"
      ]
     },
     "execution_count": 31,
     "metadata": {},
     "output_type": "execute_result"
    }
   ],
   "source": [
    "#2014-12-19..2015-02-01 non inclusive\n",
    "scrapers_to0215 = []\n",
    "for i in range(1,10):\n",
    "    url = \"https://api.github.com/search/repositories?q=scrape+OR+scraping+OR+scraper+created:2014-12-19..2015-02-01&order=asc&per_page=100&page=\"+str(i)+\"&client_id=0fd964b95259ab80e38&client_secret=0fd964b95259ab80e38\"\n",
    "    req = requests.get(url).json()['items']\n",
    "    for item in req:\n",
    "        scrapers_to0215.append(item)\n",
    "len(scrapers_to0215)"
   ]
  },
  {
   "cell_type": "code",
   "execution_count": 32,
   "metadata": {
    "collapsed": false
   },
   "outputs": [
    {
     "data": {
      "text/plain": [
       "703"
      ]
     },
     "execution_count": 32,
     "metadata": {},
     "output_type": "execute_result"
    }
   ],
   "source": [
    "#2015-01-31..2015-03-01 non inclusive\n",
    "scrapers_to0315 = []\n",
    "for i in range(1,9):\n",
    "    url = \"https://api.github.com/search/repositories?q=scrape+OR+scraping+OR+scraper+created:2015-01-31..2015-03-01&order=asc&per_page=100&page=\"+str(i)+\"&client_id=0fd964b95259ab80e38&client_secret=0fd964b95259ab80e38\"\n",
    "    req = requests.get(url).json()['items']\n",
    "    for item in req:\n",
    "        scrapers_to0315.append(item)\n",
    "len(scrapers_to0315)"
   ]
  },
  {
   "cell_type": "code",
   "execution_count": 33,
   "metadata": {
    "collapsed": false
   },
   "outputs": [
    {
     "data": {
      "text/plain": [
       "736"
      ]
     },
     "execution_count": 33,
     "metadata": {},
     "output_type": "execute_result"
    }
   ],
   "source": [
    "#2015-02-28..2015-04-01 non inclusive\n",
    "scrapers_to0415 = []\n",
    "for i in range(1,9):\n",
    "    url = \"https://api.github.com/search/repositories?q=scrape+OR+scraping+OR+scraper+created:2015-02-28..2015-04-01&order=asc&per_page=100&page=\"+str(i)+\"&client_id=0fd964b95259ab80e38&client_secret=0fd964b95259ab80e38\"\n",
    "    req = requests.get(url).json()['items']\n",
    "    for item in req:\n",
    "        scrapers_to0415.append(item)\n",
    "len(scrapers_to0415)"
   ]
  },
  {
   "cell_type": "code",
   "execution_count": 34,
   "metadata": {
    "collapsed": false
   },
   "outputs": [
    {
     "data": {
      "text/plain": [
       "706"
      ]
     },
     "execution_count": 34,
     "metadata": {},
     "output_type": "execute_result"
    }
   ],
   "source": [
    "#2015-03-31..2015-05-01 non inclusive\n",
    "scrapers_to0515 = []\n",
    "for i in range(1,9):\n",
    "    url = \"https://api.github.com/search/repositories?q=scrape+OR+scraping+OR+scraper+created:2015-03-31..2015-05-01&order=asc&per_page=100&page=\"+str(i)+\"&client_id=0fd964b95259ab80e38&client_secret=0fd964b95259ab80e38\"\n",
    "    req = requests.get(url).json()['items']\n",
    "    for item in req:\n",
    "        scrapers_to0515.append(item)\n",
    "len(scrapers_to0515)"
   ]
  },
  {
   "cell_type": "code",
   "execution_count": 35,
   "metadata": {
    "collapsed": false
   },
   "outputs": [
    {
     "data": {
      "text/plain": [
       "759"
      ]
     },
     "execution_count": 35,
     "metadata": {},
     "output_type": "execute_result"
    }
   ],
   "source": [
    "#2015-04-30..2015-06-01 non inclusive\n",
    "scrapers_to0615 = []\n",
    "for i in range(1,9):\n",
    "    url = \"https://api.github.com/search/repositories?q=scrape+OR+scraping+OR+scraper+created:2015-04-30..2015-06-01&order=asc&per_page=100&page=\"+str(i)+\"&client_id=0fd964b95259ab80e38&client_secret=0fd964b95259ab80e38\"\n",
    "    req = requests.get(url).json()['items']\n",
    "    for item in req:\n",
    "        scrapers_to0615.append(item)\n",
    "len(scrapers_to0615)"
   ]
  },
  {
   "cell_type": "code",
   "execution_count": 36,
   "metadata": {
    "collapsed": false
   },
   "outputs": [
    {
     "data": {
      "text/plain": [
       "727"
      ]
     },
     "execution_count": 36,
     "metadata": {},
     "output_type": "execute_result"
    }
   ],
   "source": [
    "#2015-05-31..2015-07-01 non inclusive\n",
    "scrapers_to0715 = []\n",
    "for i in range(1,9):\n",
    "    url = \"https://api.github.com/search/repositories?q=scrape+OR+scraping+OR+scraper+created:2015-05-31..2015-07-01&order=asc&per_page=100&page=\"+str(i)+\"&client_id=0fd964b95259ab80e38&client_secret=0fd964b95259ab80e38\"\n",
    "    req = requests.get(url).json()['items']\n",
    "    for item in req:\n",
    "        scrapers_to0715.append(item)\n",
    "len(scrapers_to0715)"
   ]
  },
  {
   "cell_type": "code",
   "execution_count": 37,
   "metadata": {
    "collapsed": false
   },
   "outputs": [
    {
     "data": {
      "text/plain": [
       "801"
      ]
     },
     "execution_count": 37,
     "metadata": {},
     "output_type": "execute_result"
    }
   ],
   "source": [
    "#2015-06-30..2015-08-01 non inclusive\n",
    "scrapers_to0815 = []\n",
    "for i in range(1,10):\n",
    "    url = \"https://api.github.com/search/repositories?q=scrape+OR+scraping+OR+scraper+created:2015-06-30..2015-08-01&order=asc&per_page=100&page=\"+str(i)+\"&client_id=0fd964b95259ab80e38&client_secret=0fd964b95259ab80e38\"\n",
    "    req = requests.get(url).json()['items']\n",
    "    for item in req:\n",
    "        scrapers_to0815.append(item)\n",
    "len(scrapers_to0815)"
   ]
  },
  {
   "cell_type": "code",
   "execution_count": 38,
   "metadata": {
    "collapsed": false
   },
   "outputs": [
    {
     "data": {
      "text/plain": [
       "538"
      ]
     },
     "execution_count": 38,
     "metadata": {},
     "output_type": "execute_result"
    }
   ],
   "source": [
    "#2015-07-31.. today inclusive\n",
    "scrapers_totoday = []\n",
    "for i in range(1,7):\n",
    "    url = \"https://api.github.com/search/repositories?q=scrape+OR+scraping+OR+scraper+created:2015-07-31..2015-08-21&order=asc&per_page=100&page=\"+str(i)+\"&client_id=0fd964b95259ab80e38&client_secret=0fd964b95259ab80e38\"\n",
    "    req = requests.get(url).json()['items']\n",
    "    for item in req:\n",
    "        scrapers_totoday.append(item)\n",
    "len(scrapers_totoday)"
   ]
  },
  {
   "cell_type": "code",
   "execution_count": 39,
   "metadata": {
    "collapsed": true
   },
   "outputs": [],
   "source": [
    "all_scrapers = scrapers_to0214+scrapers_to0215+scrapers_to0315+scrapers_to0414+scrapers_to0415+scrapers_to0513+scrapers_to0515+scrapers_to0614+scrapers_to0615+scrapers_to0715+scrapers_to072012+scrapers_to0813+scrapers_to0814+scrapers_to0815+scrapers_to1014+scrapers_to1113+scrapers_to1114+scrapers_to1214+scrapers_to2011+scrapers_to2012+scrapers_to2013+scrapers_totoday"
   ]
  },
  {
   "cell_type": "code",
   "execution_count": 42,
   "metadata": {
    "collapsed": true
   },
   "outputs": [],
   "source": [
    "df_all_scrapers = pd.DataFrame(all_scrapers)"
   ]
  },
  {
   "cell_type": "code",
   "execution_count": 95,
   "metadata": {
    "collapsed": false
   },
   "outputs": [
    {
     "ename": "NameError",
     "evalue": "name 'df' is not defined",
     "output_type": "error",
     "traceback": [
      "\u001b[0;31m---------------------------------------------------------------------------\u001b[0m",
      "\u001b[0;31mNameError\u001b[0m                                 Traceback (most recent call last)",
      "\u001b[0;32m<ipython-input-95-0590e22c05d3>\u001b[0m in \u001b[0;36m<module>\u001b[0;34m()\u001b[0m\n\u001b[0;32m----> 1\u001b[0;31m \u001b[0mdf\u001b[0m\u001b[0;34m.\u001b[0m\u001b[0mto_excel\u001b[0m\u001b[0;34m(\u001b[0m\u001b[0;34m\"all_scrapers.xls\"\u001b[0m\u001b[0;34m)\u001b[0m\u001b[0;34m\u001b[0m\u001b[0m\n\u001b[0m",
      "\u001b[0;31mNameError\u001b[0m: name 'df' is not defined"
     ]
    }
   ],
   "source": [
    "df.to_excel(\"all_scrapers.xls\")"
   ]
  },
  {
   "cell_type": "markdown",
   "metadata": {},
   "source": [
    "##Section 2: Cleaning the Database"
   ]
  },
  {
   "cell_type": "markdown",
   "metadata": {},
   "source": [
    "**`df`** is a selection of the original database that includes only the variables that I'm interested in analyzing."
   ]
  },
  {
   "cell_type": "code",
   "execution_count": 48,
   "metadata": {
    "collapsed": false
   },
   "outputs": [
    {
     "data": {
      "text/plain": [
       "Index([      u'archive_url',     u'assignees_url',         u'blobs_url',\n",
       "            u'branches_url',         u'clone_url', u'collaborators_url',\n",
       "            u'comments_url',       u'commits_url',       u'compare_url',\n",
       "            u'contents_url',  u'contributors_url',        u'created_at',\n",
       "          u'default_branch',       u'description',     u'downloads_url',\n",
       "              u'events_url',              u'fork',             u'forks',\n",
       "             u'forks_count',         u'forks_url',         u'full_name',\n",
       "         u'git_commits_url',      u'git_refs_url',      u'git_tags_url',\n",
       "                 u'git_url',     u'has_downloads',        u'has_issues',\n",
       "               u'has_pages',          u'has_wiki',          u'homepage',\n",
       "               u'hooks_url',          u'html_url',                u'id',\n",
       "       u'issue_comment_url',  u'issue_events_url',        u'issues_url',\n",
       "                u'keys_url',        u'labels_url',          u'language',\n",
       "           u'languages_url',        u'merges_url',    u'milestones_url',\n",
       "              u'mirror_url',              u'name', u'notifications_url',\n",
       "             u'open_issues', u'open_issues_count',             u'owner',\n",
       "                 u'private',         u'pulls_url',         u'pushed_at',\n",
       "            u'releases_url',             u'score',              u'size',\n",
       "                 u'ssh_url',  u'stargazers_count',    u'stargazers_url',\n",
       "            u'statuses_url',   u'subscribers_url',  u'subscription_url',\n",
       "                 u'svn_url',          u'tags_url',         u'teams_url',\n",
       "               u'trees_url',        u'updated_at',               u'url',\n",
       "                u'watchers',    u'watchers_count'],\n",
       "      dtype='object')"
      ]
     },
     "execution_count": 48,
     "metadata": {},
     "output_type": "execute_result"
    }
   ],
   "source": [
    "df_all_scrapers.columns"
   ]
  },
  {
   "cell_type": "code",
   "execution_count": 60,
   "metadata": {
    "collapsed": true
   },
   "outputs": [],
   "source": [
    "df = df_all_scrapers[['name','description','html_url','forks_count','stargazers_count','watchers_count','updated_at','created_at','size','open_issues_count','has_downloads','score','language','full_name']]"
   ]
  },
  {
   "cell_type": "code",
   "execution_count": 225,
   "metadata": {
    "collapsed": false
   },
   "outputs": [
    {
     "name": "stderr",
     "output_type": "stream",
     "text": [
      "/Users/sebastianmunoznajar/Library/Enthought/Canopy_64bit/User/lib/python2.7/site-packages/IPython/kernel/__main__.py:1: SettingWithCopyWarning: \n",
      "A value is trying to be set on a copy of a slice from a DataFrame\n",
      "\n",
      "See the the caveats in the documentation: http://pandas.pydata.org/pandas-docs/stable/indexing.html#indexing-view-versus-copy\n",
      "  if __name__ == '__main__':\n"
     ]
    }
   ],
   "source": [
    "df.drop('readme', axis=1, inplace=True) #I screwed up my first try at dowloading all the readme files"
   ]
  },
  {
   "cell_type": "code",
   "execution_count": 322,
   "metadata": {
    "collapsed": false
   },
   "outputs": [
    {
     "data": {
      "text/html": [
       "<div>\n",
       "<table border=\"1\" class=\"dataframe\">\n",
       "  <thead>\n",
       "    <tr style=\"text-align: right;\">\n",
       "      <th></th>\n",
       "      <th>name</th>\n",
       "      <th>description</th>\n",
       "      <th>html_url</th>\n",
       "      <th>forks_count</th>\n",
       "      <th>stargazers_count</th>\n",
       "      <th>watchers_count</th>\n",
       "      <th>updated_at</th>\n",
       "      <th>created_at</th>\n",
       "      <th>size</th>\n",
       "      <th>open_issues_count</th>\n",
       "      <th>has_downloads</th>\n",
       "      <th>score</th>\n",
       "      <th>language</th>\n",
       "      <th>full_name</th>\n",
       "      <th>created_ym</th>\n",
       "      <th>score_round</th>\n",
       "    </tr>\n",
       "  </thead>\n",
       "  <tbody>\n",
       "    <tr>\n",
       "      <th>0</th>\n",
       "      <td>scraper</td>\n",
       "      <td>Scrapes sites. Gets news. Eventually events.</td>\n",
       "      <td>https://github.com/openeventdata/scraper</td>\n",
       "      <td>22</td>\n",
       "      <td>21</td>\n",
       "      <td>21</td>\n",
       "      <td>2015-08-07T12:29:22Z</td>\n",
       "      <td>2014-01-26T01:18:53Z</td>\n",
       "      <td>520</td>\n",
       "      <td>2</td>\n",
       "      <td>True</td>\n",
       "      <td>46.280060</td>\n",
       "      <td>Python</td>\n",
       "      <td>openeventdata/scraper</td>\n",
       "      <td>2014-01</td>\n",
       "      <td>46.28</td>\n",
       "    </tr>\n",
       "    <tr>\n",
       "      <th>1</th>\n",
       "      <td>GoogleScraper</td>\n",
       "      <td>A Python module to scrape several search engin...</td>\n",
       "      <td>https://github.com/NikolaiT/GoogleScraper</td>\n",
       "      <td>161</td>\n",
       "      <td>620</td>\n",
       "      <td>620</td>\n",
       "      <td>2015-08-17T11:59:36Z</td>\n",
       "      <td>2013-12-06T15:34:20Z</td>\n",
       "      <td>17215</td>\n",
       "      <td>52</td>\n",
       "      <td>True</td>\n",
       "      <td>35.007828</td>\n",
       "      <td>HTML</td>\n",
       "      <td>NikolaiT/GoogleScraper</td>\n",
       "      <td>2013-12</td>\n",
       "      <td>35.01</td>\n",
       "    </tr>\n",
       "    <tr>\n",
       "      <th>2</th>\n",
       "      <td>scraper</td>\n",
       "      <td>A simple API for phantom web scraping</td>\n",
       "      <td>https://github.com/ivolo/scraper</td>\n",
       "      <td>2</td>\n",
       "      <td>7</td>\n",
       "      <td>7</td>\n",
       "      <td>2015-01-27T19:46:35Z</td>\n",
       "      <td>2014-01-12T02:18:44Z</td>\n",
       "      <td>166</td>\n",
       "      <td>4</td>\n",
       "      <td>True</td>\n",
       "      <td>25.522753</td>\n",
       "      <td>JavaScript</td>\n",
       "      <td>ivolo/scraper</td>\n",
       "      <td>2014-01</td>\n",
       "      <td>25.52</td>\n",
       "    </tr>\n",
       "    <tr>\n",
       "      <th>3</th>\n",
       "      <td>Amazon-Scraper</td>\n",
       "      <td>Amazon Price scraping tool</td>\n",
       "      <td>https://github.com/cleure/Amazon-Scraper</td>\n",
       "      <td>4</td>\n",
       "      <td>11</td>\n",
       "      <td>11</td>\n",
       "      <td>2015-07-19T10:03:53Z</td>\n",
       "      <td>2013-11-04T23:52:37Z</td>\n",
       "      <td>356</td>\n",
       "      <td>0</td>\n",
       "      <td>True</td>\n",
       "      <td>19.099678</td>\n",
       "      <td>Python</td>\n",
       "      <td>cleure/Amazon-Scraper</td>\n",
       "      <td>2013-11</td>\n",
       "      <td>19.10</td>\n",
       "    </tr>\n",
       "    <tr>\n",
       "      <th>4</th>\n",
       "      <td>scraper</td>\n",
       "      <td>Scraper example built on Scala, Akka and Jsoup</td>\n",
       "      <td>https://github.com/sap1ens/scraper</td>\n",
       "      <td>5</td>\n",
       "      <td>9</td>\n",
       "      <td>9</td>\n",
       "      <td>2015-07-19T04:38:06Z</td>\n",
       "      <td>2013-10-31T04:11:07Z</td>\n",
       "      <td>185</td>\n",
       "      <td>0</td>\n",
       "      <td>True</td>\n",
       "      <td>19.032696</td>\n",
       "      <td>Scala</td>\n",
       "      <td>sap1ens/scraper</td>\n",
       "      <td>2013-10</td>\n",
       "      <td>19.03</td>\n",
       "    </tr>\n",
       "    <tr>\n",
       "      <th>5</th>\n",
       "      <td>form-scraper</td>\n",
       "      <td>A JS module that helps with Form scraping and ...</td>\n",
       "      <td>https://github.com/tounano/form-scraper</td>\n",
       "      <td>6</td>\n",
       "      <td>8</td>\n",
       "      <td>8</td>\n",
       "      <td>2015-08-18T08:18:43Z</td>\n",
       "      <td>2013-12-20T15:28:11Z</td>\n",
       "      <td>190</td>\n",
       "      <td>1</td>\n",
       "      <td>True</td>\n",
       "      <td>19.018940</td>\n",
       "      <td>JavaScript</td>\n",
       "      <td>tounano/form-scraper</td>\n",
       "      <td>2013-12</td>\n",
       "      <td>19.02</td>\n",
       "    </tr>\n",
       "    <tr>\n",
       "      <th>6</th>\n",
       "      <td>scrape-the-gibson</td>\n",
       "      <td>Code snippets for a workshop on web scraping.</td>\n",
       "      <td>https://github.com/abelsonlive/scrape-the-gibson</td>\n",
       "      <td>9</td>\n",
       "      <td>22</td>\n",
       "      <td>22</td>\n",
       "      <td>2015-07-11T07:53:06Z</td>\n",
       "      <td>2013-12-04T15:21:51Z</td>\n",
       "      <td>180</td>\n",
       "      <td>0</td>\n",
       "      <td>True</td>\n",
       "      <td>12.688292</td>\n",
       "      <td>Python</td>\n",
       "      <td>abelsonlive/scrape-the-gibson</td>\n",
       "      <td>2013-12</td>\n",
       "      <td>12.69</td>\n",
       "    </tr>\n",
       "    <tr>\n",
       "      <th>7</th>\n",
       "      <td>trackback_scraper</td>\n",
       "      <td></td>\n",
       "      <td>https://github.com/Genius/trackback_scraper</td>\n",
       "      <td>12</td>\n",
       "      <td>118</td>\n",
       "      <td>118</td>\n",
       "      <td>2015-07-16T14:20:18Z</td>\n",
       "      <td>2013-12-30T16:57:18Z</td>\n",
       "      <td>141</td>\n",
       "      <td>0</td>\n",
       "      <td>True</td>\n",
       "      <td>12.162844</td>\n",
       "      <td>Ruby</td>\n",
       "      <td>Genius/trackback_scraper</td>\n",
       "      <td>2013-12</td>\n",
       "      <td>12.16</td>\n",
       "    </tr>\n",
       "    <tr>\n",
       "      <th>8</th>\n",
       "      <td>web-scraper-chrome-extension</td>\n",
       "      <td>Web data extraction tool implemented as chrome...</td>\n",
       "      <td>https://github.com/martinsbalodis/web-scraper-...</td>\n",
       "      <td>63</td>\n",
       "      <td>205</td>\n",
       "      <td>205</td>\n",
       "      <td>2015-08-20T00:13:09Z</td>\n",
       "      <td>2013-11-23T19:14:29Z</td>\n",
       "      <td>2322</td>\n",
       "      <td>57</td>\n",
       "      <td>True</td>\n",
       "      <td>12.162844</td>\n",
       "      <td>JavaScript</td>\n",
       "      <td>martinsbalodis/web-scraper-chrome-extension</td>\n",
       "      <td>2013-11</td>\n",
       "      <td>12.16</td>\n",
       "    </tr>\n",
       "    <tr>\n",
       "      <th>9</th>\n",
       "      <td>social_scrapers</td>\n",
       "      <td>Various Python scripts to scrape sites that st...</td>\n",
       "      <td>https://github.com/iandees/social_scrapers</td>\n",
       "      <td>3</td>\n",
       "      <td>20</td>\n",
       "      <td>20</td>\n",
       "      <td>2015-07-21T19:15:58Z</td>\n",
       "      <td>2014-01-06T17:29:39Z</td>\n",
       "      <td>136</td>\n",
       "      <td>0</td>\n",
       "      <td>True</td>\n",
       "      <td>11.823298</td>\n",
       "      <td>Python</td>\n",
       "      <td>iandees/social_scrapers</td>\n",
       "      <td>2014-01</td>\n",
       "      <td>11.82</td>\n",
       "    </tr>\n",
       "    <tr>\n",
       "      <th>10</th>\n",
       "      <td>jne-tariff-scraper</td>\n",
       "      <td>Simple scraping method for retrieving JNE tariff</td>\n",
       "      <td>https://github.com/risan/jne-tariff-scraper</td>\n",
       "      <td>3</td>\n",
       "      <td>2</td>\n",
       "      <td>2</td>\n",
       "      <td>2015-08-19T16:11:41Z</td>\n",
       "      <td>2014-01-18T08:01:04Z</td>\n",
       "      <td>272</td>\n",
       "      <td>0</td>\n",
       "      <td>True</td>\n",
       "      <td>11.708290</td>\n",
       "      <td>PHP</td>\n",
       "      <td>risan/jne-tariff-scraper</td>\n",
       "      <td>2014-01</td>\n",
       "      <td>11.71</td>\n",
       "    </tr>\n",
       "    <tr>\n",
       "      <th>11</th>\n",
       "      <td>morph</td>\n",
       "      <td>Take the hassle out of web scraping</td>\n",
       "      <td>https://github.com/openaustralia/morph</td>\n",
       "      <td>27</td>\n",
       "      <td>164</td>\n",
       "      <td>164</td>\n",
       "      <td>2015-08-20T17:22:16Z</td>\n",
       "      <td>2013-12-22T05:39:05Z</td>\n",
       "      <td>8095</td>\n",
       "      <td>208</td>\n",
       "      <td>True</td>\n",
       "      <td>11.481838</td>\n",
       "      <td>Ruby</td>\n",
       "      <td>openaustralia/morph</td>\n",
       "      <td>2013-12</td>\n",
       "      <td>11.48</td>\n",
       "    </tr>\n",
       "    <tr>\n",
       "      <th>12</th>\n",
       "      <td>Scraper</td>\n",
       "      <td>A web scraper which uses several heuristics to...</td>\n",
       "      <td>https://github.com/nikhilsid/Scraper</td>\n",
       "      <td>0</td>\n",
       "      <td>3</td>\n",
       "      <td>3</td>\n",
       "      <td>2015-06-22T22:12:10Z</td>\n",
       "      <td>2013-11-30T20:07:21Z</td>\n",
       "      <td>260</td>\n",
       "      <td>0</td>\n",
       "      <td>True</td>\n",
       "      <td>11.478731</td>\n",
       "      <td>None</td>\n",
       "      <td>nikhilsid/Scraper</td>\n",
       "      <td>2013-11</td>\n",
       "      <td>11.48</td>\n",
       "    </tr>\n",
       "    <tr>\n",
       "      <th>13</th>\n",
       "      <td>web-scraper</td>\n",
       "      <td>Some node scripts for scraping movie data from...</td>\n",
       "      <td>https://github.com/sghall/web-scraper</td>\n",
       "      <td>2</td>\n",
       "      <td>3</td>\n",
       "      <td>3</td>\n",
       "      <td>2014-08-18T00:26:05Z</td>\n",
       "      <td>2014-01-10T17:32:54Z</td>\n",
       "      <td>420</td>\n",
       "      <td>0</td>\n",
       "      <td>True</td>\n",
       "      <td>11.433298</td>\n",
       "      <td>JavaScript</td>\n",
       "      <td>sghall/web-scraper</td>\n",
       "      <td>2014-01</td>\n",
       "      <td>11.43</td>\n",
       "    </tr>\n",
       "    <tr>\n",
       "      <th>14</th>\n",
       "      <td>WebScraping</td>\n",
       "      <td>SSRMC lectures in Web Scraping, HT 2014</td>\n",
       "      <td>https://github.com/fredheir/WebScraping</td>\n",
       "      <td>12</td>\n",
       "      <td>14</td>\n",
       "      <td>14</td>\n",
       "      <td>2015-07-07T06:59:13Z</td>\n",
       "      <td>2013-12-26T09:08:34Z</td>\n",
       "      <td>7467</td>\n",
       "      <td>0</td>\n",
       "      <td>True</td>\n",
       "      <td>10.947548</td>\n",
       "      <td>R</td>\n",
       "      <td>fredheir/WebScraping</td>\n",
       "      <td>2013-12</td>\n",
       "      <td>10.95</td>\n",
       "    </tr>\n",
       "    <tr>\n",
       "      <th>15</th>\n",
       "      <td>scraper</td>\n",
       "      <td>Testing out some scraping technology</td>\n",
       "      <td>https://github.com/jwmarcus/scraper</td>\n",
       "      <td>0</td>\n",
       "      <td>0</td>\n",
       "      <td>0</td>\n",
       "      <td>2013-12-10T13:47:28Z</td>\n",
       "      <td>2013-11-26T21:06:48Z</td>\n",
       "      <td>108</td>\n",
       "      <td>0</td>\n",
       "      <td>True</td>\n",
       "      <td>10.698280</td>\n",
       "      <td>CoffeeScript</td>\n",
       "      <td>jwmarcus/scraper</td>\n",
       "      <td>2013-11</td>\n",
       "      <td>10.70</td>\n",
       "    </tr>\n",
       "    <tr>\n",
       "      <th>16</th>\n",
       "      <td>scraper</td>\n",
       "      <td>Tool to scrape web contents</td>\n",
       "      <td>https://github.com/rubn-g/scraper</td>\n",
       "      <td>1</td>\n",
       "      <td>0</td>\n",
       "      <td>0</td>\n",
       "      <td>2013-11-19T11:04:50Z</td>\n",
       "      <td>2013-11-05T15:48:31Z</td>\n",
       "      <td>120</td>\n",
       "      <td>0</td>\n",
       "      <td>True</td>\n",
       "      <td>9.353048</td>\n",
       "      <td>PHP</td>\n",
       "      <td>rubn-g/scraper</td>\n",
       "      <td>2013-11</td>\n",
       "      <td>9.35</td>\n",
       "    </tr>\n",
       "    <tr>\n",
       "      <th>17</th>\n",
       "      <td>scraper</td>\n",
       "      <td>An image/video scraped for www.screenshot.com</td>\n",
       "      <td>https://github.com/boblauer/scraper</td>\n",
       "      <td>0</td>\n",
       "      <td>0</td>\n",
       "      <td>0</td>\n",
       "      <td>2013-11-20T04:24:07Z</td>\n",
       "      <td>2013-11-20T00:58:21Z</td>\n",
       "      <td>112</td>\n",
       "      <td>0</td>\n",
       "      <td>True</td>\n",
       "      <td>9.014535</td>\n",
       "      <td>JavaScript</td>\n",
       "      <td>boblauer/scraper</td>\n",
       "      <td>2013-11</td>\n",
       "      <td>9.01</td>\n",
       "    </tr>\n",
       "    <tr>\n",
       "      <th>18</th>\n",
       "      <td>tripadvisor-scraper</td>\n",
       "      <td>TripAdvisor scraper.</td>\n",
       "      <td>https://github.com/magic890/tripadvisor-scraper</td>\n",
       "      <td>7</td>\n",
       "      <td>8</td>\n",
       "      <td>8</td>\n",
       "      <td>2015-07-16T14:46:11Z</td>\n",
       "      <td>2014-01-08T22:59:27Z</td>\n",
       "      <td>146</td>\n",
       "      <td>0</td>\n",
       "      <td>True</td>\n",
       "      <td>8.977355</td>\n",
       "      <td>Python</td>\n",
       "      <td>magic890/tripadvisor-scraper</td>\n",
       "      <td>2014-01</td>\n",
       "      <td>8.98</td>\n",
       "    </tr>\n",
       "    <tr>\n",
       "      <th>19</th>\n",
       "      <td>scraper</td>\n",
       "      <td>An Android librray to scrape a webpage and con...</td>\n",
       "      <td>https://github.com/anoopmail/scraper</td>\n",
       "      <td>0</td>\n",
       "      <td>0</td>\n",
       "      <td>0</td>\n",
       "      <td>2014-01-27T07:58:08Z</td>\n",
       "      <td>2014-01-27T07:24:55Z</td>\n",
       "      <td>968</td>\n",
       "      <td>0</td>\n",
       "      <td>True</td>\n",
       "      <td>8.845279</td>\n",
       "      <td>Java</td>\n",
       "      <td>anoopmail/scraper</td>\n",
       "      <td>2014-01</td>\n",
       "      <td>8.85</td>\n",
       "    </tr>\n",
       "    <tr>\n",
       "      <th>20</th>\n",
       "      <td>unsplash-scraper</td>\n",
       "      <td></td>\n",
       "      <td>https://github.com/elifitch/unsplash-scraper</td>\n",
       "      <td>7</td>\n",
       "      <td>5</td>\n",
       "      <td>5</td>\n",
       "      <td>2015-08-03T13:14:34Z</td>\n",
       "      <td>2014-01-19T16:41:23Z</td>\n",
       "      <td>144</td>\n",
       "      <td>0</td>\n",
       "      <td>True</td>\n",
       "      <td>8.687745</td>\n",
       "      <td>JavaScript</td>\n",
       "      <td>elifitch/unsplash-scraper</td>\n",
       "      <td>2014-01</td>\n",
       "      <td>8.69</td>\n",
       "    </tr>\n",
       "    <tr>\n",
       "      <th>21</th>\n",
       "      <td>qcumber-scraper</td>\n",
       "      <td>Scrapes SOLUS and generates structured data</td>\n",
       "      <td>https://github.com/Queens-Hacks/qcumber-scraper</td>\n",
       "      <td>2</td>\n",
       "      <td>2</td>\n",
       "      <td>2</td>\n",
       "      <td>2014-12-06T20:25:36Z</td>\n",
       "      <td>2013-11-20T03:53:21Z</td>\n",
       "      <td>531</td>\n",
       "      <td>10</td>\n",
       "      <td>True</td>\n",
       "      <td>8.638603</td>\n",
       "      <td>Python</td>\n",
       "      <td>Queens-Hacks/qcumber-scraper</td>\n",
       "      <td>2013-11</td>\n",
       "      <td>8.64</td>\n",
       "    </tr>\n",
       "    <tr>\n",
       "      <th>22</th>\n",
       "      <td>node-request-cheerio-scraper</td>\n",
       "      <td>scraping HN =&gt; CSV</td>\n",
       "      <td>https://github.com/mjhea0/node-request-cheerio...</td>\n",
       "      <td>1</td>\n",
       "      <td>2</td>\n",
       "      <td>2</td>\n",
       "      <td>2014-10-30T13:24:10Z</td>\n",
       "      <td>2013-12-19T19:50:37Z</td>\n",
       "      <td>80</td>\n",
       "      <td>0</td>\n",
       "      <td>True</td>\n",
       "      <td>8.346199</td>\n",
       "      <td>JavaScript</td>\n",
       "      <td>mjhea0/node-request-cheerio-scraper</td>\n",
       "      <td>2013-12</td>\n",
       "      <td>8.35</td>\n",
       "    </tr>\n",
       "    <tr>\n",
       "      <th>23</th>\n",
       "      <td>SmeegeScrape</td>\n",
       "      <td>File/Web Text Scraper and Wordlist Generator</td>\n",
       "      <td>https://github.com/SmeegeSec/SmeegeScrape</td>\n",
       "      <td>4</td>\n",
       "      <td>14</td>\n",
       "      <td>14</td>\n",
       "      <td>2015-06-23T09:46:36Z</td>\n",
       "      <td>2014-01-27T20:50:43Z</td>\n",
       "      <td>396</td>\n",
       "      <td>0</td>\n",
       "      <td>True</td>\n",
       "      <td>8.177273</td>\n",
       "      <td>Python</td>\n",
       "      <td>SmeegeSec/SmeegeScrape</td>\n",
       "      <td>2014-01</td>\n",
       "      <td>8.18</td>\n",
       "    </tr>\n",
       "    <tr>\n",
       "      <th>24</th>\n",
       "      <td>scrapers</td>\n",
       "      <td>Various web scrapers used to collect open data.</td>\n",
       "      <td>https://github.com/codefordayton/scrapers</td>\n",
       "      <td>6</td>\n",
       "      <td>0</td>\n",
       "      <td>0</td>\n",
       "      <td>2015-06-06T19:28:07Z</td>\n",
       "      <td>2013-12-31T17:50:07Z</td>\n",
       "      <td>547</td>\n",
       "      <td>5</td>\n",
       "      <td>True</td>\n",
       "      <td>7.595993</td>\n",
       "      <td>HTML</td>\n",
       "      <td>codefordayton/scrapers</td>\n",
       "      <td>2013-12</td>\n",
       "      <td>7.60</td>\n",
       "    </tr>\n",
       "    <tr>\n",
       "      <th>25</th>\n",
       "      <td>krake</td>\n",
       "      <td>Declarative web scraping.</td>\n",
       "      <td>https://github.com/fmap/krake</td>\n",
       "      <td>3</td>\n",
       "      <td>7</td>\n",
       "      <td>7</td>\n",
       "      <td>2015-01-05T22:42:56Z</td>\n",
       "      <td>2013-11-24T09:47:48Z</td>\n",
       "      <td>353</td>\n",
       "      <td>2</td>\n",
       "      <td>True</td>\n",
       "      <td>7.176149</td>\n",
       "      <td>JavaScript</td>\n",
       "      <td>fmap/krake</td>\n",
       "      <td>2013-11</td>\n",
       "      <td>7.18</td>\n",
       "    </tr>\n",
       "    <tr>\n",
       "      <th>26</th>\n",
       "      <td>blackboard_scraper</td>\n",
       "      <td>Tool (with GUI) for easy downloading of lectur...</td>\n",
       "      <td>https://github.com/jasongi/blackboard_scraper</td>\n",
       "      <td>5</td>\n",
       "      <td>5</td>\n",
       "      <td>5</td>\n",
       "      <td>2015-08-06T13:00:49Z</td>\n",
       "      <td>2013-11-14T06:31:43Z</td>\n",
       "      <td>37794</td>\n",
       "      <td>1</td>\n",
       "      <td>True</td>\n",
       "      <td>7.016223</td>\n",
       "      <td>Tcl</td>\n",
       "      <td>jasongi/blackboard_scraper</td>\n",
       "      <td>2013-11</td>\n",
       "      <td>7.02</td>\n",
       "    </tr>\n",
       "    <tr>\n",
       "      <th>27</th>\n",
       "      <td>HMA-Proxy-Scraper</td>\n",
       "      <td>Uses node.js to pull/parse working http proxie...</td>\n",
       "      <td>https://github.com/sdrobs/HMA-Proxy-Scraper</td>\n",
       "      <td>6</td>\n",
       "      <td>11</td>\n",
       "      <td>11</td>\n",
       "      <td>2015-07-28T05:10:59Z</td>\n",
       "      <td>2014-01-19T00:51:02Z</td>\n",
       "      <td>127</td>\n",
       "      <td>0</td>\n",
       "      <td>True</td>\n",
       "      <td>7.016223</td>\n",
       "      <td>JavaScript</td>\n",
       "      <td>sdrobs/HMA-Proxy-Scraper</td>\n",
       "      <td>2014-01</td>\n",
       "      <td>7.02</td>\n",
       "    </tr>\n",
       "    <tr>\n",
       "      <th>28</th>\n",
       "      <td>stack-scraper</td>\n",
       "      <td></td>\n",
       "      <td>https://github.com/jeresig/stack-scraper</td>\n",
       "      <td>2</td>\n",
       "      <td>50</td>\n",
       "      <td>50</td>\n",
       "      <td>2015-08-18T04:42:57Z</td>\n",
       "      <td>2014-01-31T19:20:11Z</td>\n",
       "      <td>1414</td>\n",
       "      <td>0</td>\n",
       "      <td>True</td>\n",
       "      <td>7.016223</td>\n",
       "      <td>JavaScript</td>\n",
       "      <td>jeresig/stack-scraper</td>\n",
       "      <td>2014-01</td>\n",
       "      <td>7.02</td>\n",
       "    </tr>\n",
       "    <tr>\n",
       "      <th>29</th>\n",
       "      <td>scrapers</td>\n",
       "      <td>Scraping the web is fun actually</td>\n",
       "      <td>https://github.com/vkammerer/scrapers</td>\n",
       "      <td>0</td>\n",
       "      <td>0</td>\n",
       "      <td>0</td>\n",
       "      <td>2015-03-27T22:22:30Z</td>\n",
       "      <td>2014-01-02T22:32:20Z</td>\n",
       "      <td>144</td>\n",
       "      <td>0</td>\n",
       "      <td>True</td>\n",
       "      <td>6.794204</td>\n",
       "      <td>JavaScript</td>\n",
       "      <td>vkammerer/scrapers</td>\n",
       "      <td>2014-01</td>\n",
       "      <td>6.79</td>\n",
       "    </tr>\n",
       "    <tr>\n",
       "      <th>...</th>\n",
       "      <td>...</td>\n",
       "      <td>...</td>\n",
       "      <td>...</td>\n",
       "      <td>...</td>\n",
       "      <td>...</td>\n",
       "      <td>...</td>\n",
       "      <td>...</td>\n",
       "      <td>...</td>\n",
       "      <td>...</td>\n",
       "      <td>...</td>\n",
       "      <td>...</td>\n",
       "      <td>...</td>\n",
       "      <td>...</td>\n",
       "      <td>...</td>\n",
       "      <td>...</td>\n",
       "      <td>...</td>\n",
       "    </tr>\n",
       "    <tr>\n",
       "      <th>17336</th>\n",
       "      <td>Annals</td>\n",
       "      <td>Scraper wrapper for preserving public archive.</td>\n",
       "      <td>https://github.com/revan/Annals</td>\n",
       "      <td>0</td>\n",
       "      <td>0</td>\n",
       "      <td>0</td>\n",
       "      <td>2015-08-11T08:25:46Z</td>\n",
       "      <td>2015-08-10T04:29:48Z</td>\n",
       "      <td>120</td>\n",
       "      <td>0</td>\n",
       "      <td>True</td>\n",
       "      <td>0.388404</td>\n",
       "      <td>Python</td>\n",
       "      <td>revan/Annals</td>\n",
       "      <td>2015-08</td>\n",
       "      <td>0.39</td>\n",
       "    </tr>\n",
       "    <tr>\n",
       "      <th>17337</th>\n",
       "      <td>gimmeHumour</td>\n",
       "      <td>reddit scraper that provides a random joke</td>\n",
       "      <td>https://github.com/harababurel/gimmeHumour</td>\n",
       "      <td>0</td>\n",
       "      <td>0</td>\n",
       "      <td>0</td>\n",
       "      <td>2015-08-18T21:08:40Z</td>\n",
       "      <td>2015-08-18T19:44:47Z</td>\n",
       "      <td>0</td>\n",
       "      <td>0</td>\n",
       "      <td>True</td>\n",
       "      <td>0.388404</td>\n",
       "      <td>Python</td>\n",
       "      <td>harababurel/gimmeHumour</td>\n",
       "      <td>2015-08</td>\n",
       "      <td>0.39</td>\n",
       "    </tr>\n",
       "    <tr>\n",
       "      <th>17338</th>\n",
       "      <td>ParkAssist.Server</td>\n",
       "      <td>Park Assist's back end server &amp; scraper</td>\n",
       "      <td>https://github.com/charming-chino/ParkAssist.S...</td>\n",
       "      <td>1</td>\n",
       "      <td>0</td>\n",
       "      <td>0</td>\n",
       "      <td>2015-08-18T18:20:24Z</td>\n",
       "      <td>2015-08-18T18:20:24Z</td>\n",
       "      <td>0</td>\n",
       "      <td>0</td>\n",
       "      <td>True</td>\n",
       "      <td>0.388404</td>\n",
       "      <td>None</td>\n",
       "      <td>charming-chino/ParkAssist.Server</td>\n",
       "      <td>2015-08</td>\n",
       "      <td>0.39</td>\n",
       "    </tr>\n",
       "    <tr>\n",
       "      <th>17339</th>\n",
       "      <td>datagovbe-tools-java</td>\n",
       "      <td>Java version of scraper tools etc</td>\n",
       "      <td>https://github.com/Fedict/datagovbe-tools-java</td>\n",
       "      <td>0</td>\n",
       "      <td>0</td>\n",
       "      <td>0</td>\n",
       "      <td>2015-08-03T06:30:29Z</td>\n",
       "      <td>2015-08-03T06:17:37Z</td>\n",
       "      <td>188</td>\n",
       "      <td>0</td>\n",
       "      <td>True</td>\n",
       "      <td>0.388404</td>\n",
       "      <td>Java</td>\n",
       "      <td>Fedict/datagovbe-tools-java</td>\n",
       "      <td>2015-08</td>\n",
       "      <td>0.39</td>\n",
       "    </tr>\n",
       "    <tr>\n",
       "      <th>17340</th>\n",
       "      <td>warrnambool-weatherscrape</td>\n",
       "      <td>small node js warrnambool weather scraper</td>\n",
       "      <td>https://github.com/lukealford/warrnambool-weat...</td>\n",
       "      <td>0</td>\n",
       "      <td>0</td>\n",
       "      <td>0</td>\n",
       "      <td>2015-08-20T12:34:43Z</td>\n",
       "      <td>2015-08-20T12:33:09Z</td>\n",
       "      <td>0</td>\n",
       "      <td>0</td>\n",
       "      <td>True</td>\n",
       "      <td>0.388404</td>\n",
       "      <td>JavaScript</td>\n",
       "      <td>lukealford/warrnambool-weatherscrape</td>\n",
       "      <td>2015-08</td>\n",
       "      <td>0.39</td>\n",
       "    </tr>\n",
       "    <tr>\n",
       "      <th>17341</th>\n",
       "      <td>amzscraper</td>\n",
       "      <td>Simple Python-based scraper for Amazon order r...</td>\n",
       "      <td>https://github.com/tobiasmcnulty/amzscraper</td>\n",
       "      <td>0</td>\n",
       "      <td>0</td>\n",
       "      <td>0</td>\n",
       "      <td>2015-08-01T23:34:03Z</td>\n",
       "      <td>2015-08-01T23:21:13Z</td>\n",
       "      <td>140</td>\n",
       "      <td>0</td>\n",
       "      <td>True</td>\n",
       "      <td>0.327543</td>\n",
       "      <td>Python</td>\n",
       "      <td>tobiasmcnulty/amzscraper</td>\n",
       "      <td>2015-08</td>\n",
       "      <td>0.33</td>\n",
       "    </tr>\n",
       "    <tr>\n",
       "      <th>17342</th>\n",
       "      <td>MyReleaseFeed</td>\n",
       "      <td>Releases scraper done with node.js / express /...</td>\n",
       "      <td>https://github.com/luismachado/MyReleaseFeed</td>\n",
       "      <td>0</td>\n",
       "      <td>0</td>\n",
       "      <td>0</td>\n",
       "      <td>2015-07-31T13:49:01Z</td>\n",
       "      <td>2015-07-31T13:46:48Z</td>\n",
       "      <td>164</td>\n",
       "      <td>0</td>\n",
       "      <td>True</td>\n",
       "      <td>0.327543</td>\n",
       "      <td>JavaScript</td>\n",
       "      <td>luismachado/MyReleaseFeed</td>\n",
       "      <td>2015-07</td>\n",
       "      <td>0.33</td>\n",
       "    </tr>\n",
       "    <tr>\n",
       "      <th>17343</th>\n",
       "      <td>poltergeist_learning</td>\n",
       "      <td>A sample scraper project on using poltergeist ...</td>\n",
       "      <td>https://github.com/Vengat/poltergeist_learning</td>\n",
       "      <td>0</td>\n",
       "      <td>0</td>\n",
       "      <td>0</td>\n",
       "      <td>2015-08-01T07:39:42Z</td>\n",
       "      <td>2015-08-01T07:36:36Z</td>\n",
       "      <td>480</td>\n",
       "      <td>0</td>\n",
       "      <td>True</td>\n",
       "      <td>0.327543</td>\n",
       "      <td>JavaScript</td>\n",
       "      <td>Vengat/poltergeist_learning</td>\n",
       "      <td>2015-08</td>\n",
       "      <td>0.33</td>\n",
       "    </tr>\n",
       "    <tr>\n",
       "      <th>17344</th>\n",
       "      <td>makebank</td>\n",
       "      <td>A parser/scraper for Belgrade State Bank's onl...</td>\n",
       "      <td>https://github.com/dmwyatt/makebank</td>\n",
       "      <td>0</td>\n",
       "      <td>0</td>\n",
       "      <td>0</td>\n",
       "      <td>2015-08-17T14:17:16Z</td>\n",
       "      <td>2015-08-17T14:16:32Z</td>\n",
       "      <td>0</td>\n",
       "      <td>0</td>\n",
       "      <td>True</td>\n",
       "      <td>0.327543</td>\n",
       "      <td>Python</td>\n",
       "      <td>dmwyatt/makebank</td>\n",
       "      <td>2015-08</td>\n",
       "      <td>0.33</td>\n",
       "    </tr>\n",
       "    <tr>\n",
       "      <th>17345</th>\n",
       "      <td>thelearningpoint.net</td>\n",
       "      <td>Code snippets and scrapers related to thelearn...</td>\n",
       "      <td>https://github.com/prashantb1984/thelearningpo...</td>\n",
       "      <td>0</td>\n",
       "      <td>0</td>\n",
       "      <td>0</td>\n",
       "      <td>2015-08-18T13:31:03Z</td>\n",
       "      <td>2015-08-18T13:31:03Z</td>\n",
       "      <td>0</td>\n",
       "      <td>0</td>\n",
       "      <td>True</td>\n",
       "      <td>0.327543</td>\n",
       "      <td>None</td>\n",
       "      <td>prashantb1984/thelearningpoint.net</td>\n",
       "      <td>2015-08</td>\n",
       "      <td>0.33</td>\n",
       "    </tr>\n",
       "    <tr>\n",
       "      <th>17346</th>\n",
       "      <td>TekCollect-proxied</td>\n",
       "      <td>Proxied web scraper (original Author www.TekDe...</td>\n",
       "      <td>https://github.com/johnfranolich/TekCollect-pr...</td>\n",
       "      <td>0</td>\n",
       "      <td>0</td>\n",
       "      <td>0</td>\n",
       "      <td>2015-08-01T20:18:19Z</td>\n",
       "      <td>2015-08-01T20:18:19Z</td>\n",
       "      <td>0</td>\n",
       "      <td>0</td>\n",
       "      <td>True</td>\n",
       "      <td>0.323670</td>\n",
       "      <td>None</td>\n",
       "      <td>johnfranolich/TekCollect-proxied</td>\n",
       "      <td>2015-08</td>\n",
       "      <td>0.32</td>\n",
       "    </tr>\n",
       "    <tr>\n",
       "      <th>17347</th>\n",
       "      <td>oddsforme</td>\n",
       "      <td>Web Scraper for Odds and Predictions for Footb...</td>\n",
       "      <td>https://github.com/lokeshsah7/oddsforme</td>\n",
       "      <td>0</td>\n",
       "      <td>0</td>\n",
       "      <td>0</td>\n",
       "      <td>2015-08-08T11:24:42Z</td>\n",
       "      <td>2015-08-08T11:22:36Z</td>\n",
       "      <td>120</td>\n",
       "      <td>0</td>\n",
       "      <td>True</td>\n",
       "      <td>0.323670</td>\n",
       "      <td>Python</td>\n",
       "      <td>lokeshsah7/oddsforme</td>\n",
       "      <td>2015-08</td>\n",
       "      <td>0.32</td>\n",
       "    </tr>\n",
       "    <tr>\n",
       "      <th>17348</th>\n",
       "      <td>jdan_scrapy</td>\n",
       "      <td>www.jandan.net 无聊图 scraper via scrapy</td>\n",
       "      <td>https://github.com/macrov/jdan_scrapy</td>\n",
       "      <td>0</td>\n",
       "      <td>0</td>\n",
       "      <td>0</td>\n",
       "      <td>2015-08-04T09:11:24Z</td>\n",
       "      <td>2015-08-04T09:08:39Z</td>\n",
       "      <td>220</td>\n",
       "      <td>0</td>\n",
       "      <td>True</td>\n",
       "      <td>0.323670</td>\n",
       "      <td>Python</td>\n",
       "      <td>macrov/jdan_scrapy</td>\n",
       "      <td>2015-08</td>\n",
       "      <td>0.32</td>\n",
       "    </tr>\n",
       "    <tr>\n",
       "      <th>17349</th>\n",
       "      <td>tweescrape</td>\n",
       "      <td>quick and dirty twitter scraper based on geolo...</td>\n",
       "      <td>https://github.com/marcusguttenplan/tweescrape</td>\n",
       "      <td>0</td>\n",
       "      <td>1</td>\n",
       "      <td>1</td>\n",
       "      <td>2015-08-10T08:10:16Z</td>\n",
       "      <td>2015-08-10T08:06:11Z</td>\n",
       "      <td>116</td>\n",
       "      <td>0</td>\n",
       "      <td>True</td>\n",
       "      <td>0.323670</td>\n",
       "      <td>Python</td>\n",
       "      <td>marcusguttenplan/tweescrape</td>\n",
       "      <td>2015-08</td>\n",
       "      <td>0.32</td>\n",
       "    </tr>\n",
       "    <tr>\n",
       "      <th>17350</th>\n",
       "      <td>FASB</td>\n",
       "      <td>stuntin in them scrapers got the drop top</td>\n",
       "      <td>https://github.com/bartlesy/FASB</td>\n",
       "      <td>0</td>\n",
       "      <td>0</td>\n",
       "      <td>0</td>\n",
       "      <td>2015-08-14T03:00:35Z</td>\n",
       "      <td>2015-08-14T02:55:06Z</td>\n",
       "      <td>0</td>\n",
       "      <td>0</td>\n",
       "      <td>True</td>\n",
       "      <td>0.323670</td>\n",
       "      <td>Python</td>\n",
       "      <td>bartlesy/FASB</td>\n",
       "      <td>2015-08</td>\n",
       "      <td>0.32</td>\n",
       "    </tr>\n",
       "    <tr>\n",
       "      <th>17351</th>\n",
       "      <td>samplescraper</td>\n",
       "      <td>This is just example scraper script in ruby</td>\n",
       "      <td>https://github.com/techvineet/samplescraper</td>\n",
       "      <td>0</td>\n",
       "      <td>0</td>\n",
       "      <td>0</td>\n",
       "      <td>2015-08-13T06:52:45Z</td>\n",
       "      <td>2015-08-13T06:49:05Z</td>\n",
       "      <td>116</td>\n",
       "      <td>0</td>\n",
       "      <td>True</td>\n",
       "      <td>0.323670</td>\n",
       "      <td>Ruby</td>\n",
       "      <td>techvineet/samplescraper</td>\n",
       "      <td>2015-08</td>\n",
       "      <td>0.32</td>\n",
       "    </tr>\n",
       "    <tr>\n",
       "      <th>17352</th>\n",
       "      <td>sports-api</td>\n",
       "      <td>Sports API scraper to return JSON feeds for va...</td>\n",
       "      <td>https://github.com/MikeSilvis/sports-api</td>\n",
       "      <td>0</td>\n",
       "      <td>1</td>\n",
       "      <td>1</td>\n",
       "      <td>2015-08-20T18:21:02Z</td>\n",
       "      <td>2015-08-10T00:34:49Z</td>\n",
       "      <td>216</td>\n",
       "      <td>0</td>\n",
       "      <td>True</td>\n",
       "      <td>0.323670</td>\n",
       "      <td>HTML</td>\n",
       "      <td>MikeSilvis/sports-api</td>\n",
       "      <td>2015-08</td>\n",
       "      <td>0.32</td>\n",
       "    </tr>\n",
       "    <tr>\n",
       "      <th>17353</th>\n",
       "      <td>casper_pets</td>\n",
       "      <td>Web scraper for calculating cosleeping stats f...</td>\n",
       "      <td>https://github.com/barelyknown/casper_pets</td>\n",
       "      <td>0</td>\n",
       "      <td>1</td>\n",
       "      <td>1</td>\n",
       "      <td>2015-08-04T18:45:07Z</td>\n",
       "      <td>2015-08-04T04:25:23Z</td>\n",
       "      <td>108</td>\n",
       "      <td>0</td>\n",
       "      <td>True</td>\n",
       "      <td>0.262035</td>\n",
       "      <td>Ruby</td>\n",
       "      <td>barelyknown/casper_pets</td>\n",
       "      <td>2015-08</td>\n",
       "      <td>0.26</td>\n",
       "    </tr>\n",
       "    <tr>\n",
       "      <th>17354</th>\n",
       "      <td>mtgscraper</td>\n",
       "      <td>A scraper for magiccards.info that will grab t...</td>\n",
       "      <td>https://github.com/UVClay/mtgscraper</td>\n",
       "      <td>0</td>\n",
       "      <td>0</td>\n",
       "      <td>0</td>\n",
       "      <td>2015-08-09T21:18:23Z</td>\n",
       "      <td>2015-08-09T21:18:23Z</td>\n",
       "      <td>128</td>\n",
       "      <td>0</td>\n",
       "      <td>True</td>\n",
       "      <td>0.262035</td>\n",
       "      <td>None</td>\n",
       "      <td>UVClay/mtgscraper</td>\n",
       "      <td>2015-08</td>\n",
       "      <td>0.26</td>\n",
       "    </tr>\n",
       "    <tr>\n",
       "      <th>17355</th>\n",
       "      <td>kivahelper</td>\n",
       "      <td>Simple HTML scraper to find Field Partner's Re...</td>\n",
       "      <td>https://github.com/michaelbritt/kivahelper</td>\n",
       "      <td>0</td>\n",
       "      <td>0</td>\n",
       "      <td>0</td>\n",
       "      <td>2015-08-08T07:03:02Z</td>\n",
       "      <td>2015-08-08T07:03:02Z</td>\n",
       "      <td>0</td>\n",
       "      <td>0</td>\n",
       "      <td>True</td>\n",
       "      <td>0.262035</td>\n",
       "      <td>None</td>\n",
       "      <td>michaelbritt/kivahelper</td>\n",
       "      <td>2015-08</td>\n",
       "      <td>0.26</td>\n",
       "    </tr>\n",
       "    <tr>\n",
       "      <th>17356</th>\n",
       "      <td>kqv</td>\n",
       "      <td>Scraper so I can read the programming schedule...</td>\n",
       "      <td>https://github.com/camateg/kqv</td>\n",
       "      <td>0</td>\n",
       "      <td>0</td>\n",
       "      <td>0</td>\n",
       "      <td>2015-08-12T22:07:43Z</td>\n",
       "      <td>2015-08-12T22:04:58Z</td>\n",
       "      <td>140</td>\n",
       "      <td>0</td>\n",
       "      <td>True</td>\n",
       "      <td>0.262035</td>\n",
       "      <td>JavaScript</td>\n",
       "      <td>camateg/kqv</td>\n",
       "      <td>2015-08</td>\n",
       "      <td>0.26</td>\n",
       "    </tr>\n",
       "    <tr>\n",
       "      <th>17357</th>\n",
       "      <td>ESEAForumRankings</td>\n",
       "      <td>web scraper using Groovy &amp; jsoup, ranks top 10...</td>\n",
       "      <td>https://github.com/thekevincurtin/ESEAForumRan...</td>\n",
       "      <td>0</td>\n",
       "      <td>0</td>\n",
       "      <td>0</td>\n",
       "      <td>2015-08-12T04:48:39Z</td>\n",
       "      <td>2015-08-12T04:45:16Z</td>\n",
       "      <td>408</td>\n",
       "      <td>0</td>\n",
       "      <td>True</td>\n",
       "      <td>0.262035</td>\n",
       "      <td>Groovy</td>\n",
       "      <td>thekevincurtin/ESEAForumRankings</td>\n",
       "      <td>2015-08</td>\n",
       "      <td>0.26</td>\n",
       "    </tr>\n",
       "    <tr>\n",
       "      <th>17358</th>\n",
       "      <td>OKCscraper</td>\n",
       "      <td>Simple python scraper to convert saved .html o...</td>\n",
       "      <td>https://github.com/angshenting/OKCscraper</td>\n",
       "      <td>0</td>\n",
       "      <td>0</td>\n",
       "      <td>0</td>\n",
       "      <td>2015-07-31T10:29:41Z</td>\n",
       "      <td>2015-07-31T10:29:41Z</td>\n",
       "      <td>144</td>\n",
       "      <td>0</td>\n",
       "      <td>True</td>\n",
       "      <td>0.262035</td>\n",
       "      <td>None</td>\n",
       "      <td>angshenting/OKCscraper</td>\n",
       "      <td>2015-07</td>\n",
       "      <td>0.26</td>\n",
       "    </tr>\n",
       "    <tr>\n",
       "      <th>17359</th>\n",
       "      <td>method-finder</td>\n",
       "      <td>A github scraper to get a list of all the meth...</td>\n",
       "      <td>https://github.com/wcjohnson11/method-finder</td>\n",
       "      <td>0</td>\n",
       "      <td>0</td>\n",
       "      <td>0</td>\n",
       "      <td>2015-07-31T03:57:49Z</td>\n",
       "      <td>2015-07-31T03:57:49Z</td>\n",
       "      <td>120</td>\n",
       "      <td>0</td>\n",
       "      <td>True</td>\n",
       "      <td>0.262035</td>\n",
       "      <td>None</td>\n",
       "      <td>wcjohnson11/method-finder</td>\n",
       "      <td>2015-07</td>\n",
       "      <td>0.26</td>\n",
       "    </tr>\n",
       "    <tr>\n",
       "      <th>17360</th>\n",
       "      <td>russianscraper</td>\n",
       "      <td>A simpe scraper using scrapy to generate a lis...</td>\n",
       "      <td>https://github.com/jon-xavier/russianscraper</td>\n",
       "      <td>0</td>\n",
       "      <td>0</td>\n",
       "      <td>0</td>\n",
       "      <td>2015-08-07T20:43:56Z</td>\n",
       "      <td>2015-08-07T20:43:29Z</td>\n",
       "      <td>120</td>\n",
       "      <td>0</td>\n",
       "      <td>True</td>\n",
       "      <td>0.258936</td>\n",
       "      <td>Python</td>\n",
       "      <td>jon-xavier/russianscraper</td>\n",
       "      <td>2015-08</td>\n",
       "      <td>0.26</td>\n",
       "    </tr>\n",
       "    <tr>\n",
       "      <th>17361</th>\n",
       "      <td>ratings</td>\n",
       "      <td>web scraper to compare cnn and fox news rating...</td>\n",
       "      <td>https://github.com/erratik/ratings</td>\n",
       "      <td>0</td>\n",
       "      <td>0</td>\n",
       "      <td>0</td>\n",
       "      <td>2015-08-10T00:09:21Z</td>\n",
       "      <td>2015-08-09T22:24:05Z</td>\n",
       "      <td>192</td>\n",
       "      <td>0</td>\n",
       "      <td>True</td>\n",
       "      <td>0.258936</td>\n",
       "      <td>JavaScript</td>\n",
       "      <td>erratik/ratings</td>\n",
       "      <td>2015-08</td>\n",
       "      <td>0.26</td>\n",
       "    </tr>\n",
       "    <tr>\n",
       "      <th>17362</th>\n",
       "      <td>notalwaysscraper</td>\n",
       "      <td>Scraper for various \"Not always\" sites to gene...</td>\n",
       "      <td>https://github.com/ipsi/notalwaysscraper</td>\n",
       "      <td>0</td>\n",
       "      <td>0</td>\n",
       "      <td>0</td>\n",
       "      <td>2015-08-10T21:51:32Z</td>\n",
       "      <td>2015-08-10T19:40:48Z</td>\n",
       "      <td>136</td>\n",
       "      <td>0</td>\n",
       "      <td>True</td>\n",
       "      <td>0.258936</td>\n",
       "      <td>Python</td>\n",
       "      <td>ipsi/notalwaysscraper</td>\n",
       "      <td>2015-08</td>\n",
       "      <td>0.26</td>\n",
       "    </tr>\n",
       "    <tr>\n",
       "      <th>17363</th>\n",
       "      <td>CodeIgniteralbright</td>\n",
       "      <td>active web scraper program which searchs for I...</td>\n",
       "      <td>https://github.com/saulwiggin/CodeIgniteralbright</td>\n",
       "      <td>0</td>\n",
       "      <td>0</td>\n",
       "      <td>0</td>\n",
       "      <td>2015-08-13T13:57:59Z</td>\n",
       "      <td>2015-08-12T20:43:24Z</td>\n",
       "      <td>2188</td>\n",
       "      <td>0</td>\n",
       "      <td>True</td>\n",
       "      <td>0.226569</td>\n",
       "      <td>HTML</td>\n",
       "      <td>saulwiggin/CodeIgniteralbright</td>\n",
       "      <td>2015-08</td>\n",
       "      <td>0.23</td>\n",
       "    </tr>\n",
       "    <tr>\n",
       "      <th>17364</th>\n",
       "      <td>jobby</td>\n",
       "      <td>Web Scraper and Aggregator of job listings tha...</td>\n",
       "      <td>https://github.com/sarahjschultz/jobby</td>\n",
       "      <td>0</td>\n",
       "      <td>0</td>\n",
       "      <td>0</td>\n",
       "      <td>2015-08-20T02:04:43Z</td>\n",
       "      <td>2015-08-18T23:57:00Z</td>\n",
       "      <td>0</td>\n",
       "      <td>0</td>\n",
       "      <td>True</td>\n",
       "      <td>0.194202</td>\n",
       "      <td>Ruby</td>\n",
       "      <td>sarahjschultz/jobby</td>\n",
       "      <td>2015-08</td>\n",
       "      <td>0.19</td>\n",
       "    </tr>\n",
       "    <tr>\n",
       "      <th>17365</th>\n",
       "      <td>bulbascraper</td>\n",
       "      <td>A bulbapedia scraper to pull data from all exi...</td>\n",
       "      <td>https://github.com/sleepingkirby/bulbascraper</td>\n",
       "      <td>0</td>\n",
       "      <td>0</td>\n",
       "      <td>0</td>\n",
       "      <td>2015-08-07T22:05:51Z</td>\n",
       "      <td>2015-08-05T03:28:07Z</td>\n",
       "      <td>152</td>\n",
       "      <td>0</td>\n",
       "      <td>True</td>\n",
       "      <td>0.129468</td>\n",
       "      <td>PHP</td>\n",
       "      <td>sleepingkirby/bulbascraper</td>\n",
       "      <td>2015-08</td>\n",
       "      <td>0.13</td>\n",
       "    </tr>\n",
       "  </tbody>\n",
       "</table>\n",
       "<p>17366 rows × 16 columns</p>\n",
       "</div>"
      ],
      "text/plain": [
       "                               name  \\\n",
       "0                           scraper   \n",
       "1                     GoogleScraper   \n",
       "2                           scraper   \n",
       "3                    Amazon-Scraper   \n",
       "4                           scraper   \n",
       "5                      form-scraper   \n",
       "6                 scrape-the-gibson   \n",
       "7                 trackback_scraper   \n",
       "8      web-scraper-chrome-extension   \n",
       "9                   social_scrapers   \n",
       "10               jne-tariff-scraper   \n",
       "11                            morph   \n",
       "12                          Scraper   \n",
       "13                      web-scraper   \n",
       "14                      WebScraping   \n",
       "15                          scraper   \n",
       "16                          scraper   \n",
       "17                          scraper   \n",
       "18              tripadvisor-scraper   \n",
       "19                          scraper   \n",
       "20                 unsplash-scraper   \n",
       "21                  qcumber-scraper   \n",
       "22     node-request-cheerio-scraper   \n",
       "23                     SmeegeScrape   \n",
       "24                         scrapers   \n",
       "25                            krake   \n",
       "26               blackboard_scraper   \n",
       "27                HMA-Proxy-Scraper   \n",
       "28                    stack-scraper   \n",
       "29                         scrapers   \n",
       "...                             ...   \n",
       "17336                        Annals   \n",
       "17337                   gimmeHumour   \n",
       "17338             ParkAssist.Server   \n",
       "17339          datagovbe-tools-java   \n",
       "17340     warrnambool-weatherscrape   \n",
       "17341                    amzscraper   \n",
       "17342                 MyReleaseFeed   \n",
       "17343          poltergeist_learning   \n",
       "17344                      makebank   \n",
       "17345          thelearningpoint.net   \n",
       "17346            TekCollect-proxied   \n",
       "17347                     oddsforme   \n",
       "17348                   jdan_scrapy   \n",
       "17349                    tweescrape   \n",
       "17350                          FASB   \n",
       "17351                 samplescraper   \n",
       "17352                    sports-api   \n",
       "17353                   casper_pets   \n",
       "17354                    mtgscraper   \n",
       "17355                    kivahelper   \n",
       "17356                           kqv   \n",
       "17357             ESEAForumRankings   \n",
       "17358                    OKCscraper   \n",
       "17359                 method-finder   \n",
       "17360                russianscraper   \n",
       "17361                       ratings   \n",
       "17362              notalwaysscraper   \n",
       "17363           CodeIgniteralbright   \n",
       "17364                         jobby   \n",
       "17365                  bulbascraper   \n",
       "\n",
       "                                             description  \\\n",
       "0           Scrapes sites. Gets news. Eventually events.   \n",
       "1      A Python module to scrape several search engin...   \n",
       "2                  A simple API for phantom web scraping   \n",
       "3                             Amazon Price scraping tool   \n",
       "4         Scraper example built on Scala, Akka and Jsoup   \n",
       "5      A JS module that helps with Form scraping and ...   \n",
       "6          Code snippets for a workshop on web scraping.   \n",
       "7                                                          \n",
       "8      Web data extraction tool implemented as chrome...   \n",
       "9      Various Python scripts to scrape sites that st...   \n",
       "10      Simple scraping method for retrieving JNE tariff   \n",
       "11                   Take the hassle out of web scraping   \n",
       "12     A web scraper which uses several heuristics to...   \n",
       "13     Some node scripts for scraping movie data from...   \n",
       "14               SSRMC lectures in Web Scraping, HT 2014   \n",
       "15                  Testing out some scraping technology   \n",
       "16                           Tool to scrape web contents   \n",
       "17         An image/video scraped for www.screenshot.com   \n",
       "18                                  TripAdvisor scraper.   \n",
       "19     An Android librray to scrape a webpage and con...   \n",
       "20                                                         \n",
       "21           Scrapes SOLUS and generates structured data   \n",
       "22                                    scraping HN => CSV   \n",
       "23          File/Web Text Scraper and Wordlist Generator   \n",
       "24       Various web scrapers used to collect open data.   \n",
       "25                             Declarative web scraping.   \n",
       "26     Tool (with GUI) for easy downloading of lectur...   \n",
       "27     Uses node.js to pull/parse working http proxie...   \n",
       "28                                                         \n",
       "29                      Scraping the web is fun actually   \n",
       "...                                                  ...   \n",
       "17336     Scraper wrapper for preserving public archive.   \n",
       "17337         reddit scraper that provides a random joke   \n",
       "17338            Park Assist's back end server & scraper   \n",
       "17339                  Java version of scraper tools etc   \n",
       "17340          small node js warrnambool weather scraper   \n",
       "17341  Simple Python-based scraper for Amazon order r...   \n",
       "17342  Releases scraper done with node.js / express /...   \n",
       "17343  A sample scraper project on using poltergeist ...   \n",
       "17344  A parser/scraper for Belgrade State Bank's onl...   \n",
       "17345  Code snippets and scrapers related to thelearn...   \n",
       "17346  Proxied web scraper (original Author www.TekDe...   \n",
       "17347  Web Scraper for Odds and Predictions for Footb...   \n",
       "17348              www.jandan.net 无聊图 scraper via scrapy   \n",
       "17349  quick and dirty twitter scraper based on geolo...   \n",
       "17350          stuntin in them scrapers got the drop top   \n",
       "17351       This is just example scraper script in ruby    \n",
       "17352  Sports API scraper to return JSON feeds for va...   \n",
       "17353  Web scraper for calculating cosleeping stats f...   \n",
       "17354  A scraper for magiccards.info that will grab t...   \n",
       "17355  Simple HTML scraper to find Field Partner's Re...   \n",
       "17356  Scraper so I can read the programming schedule...   \n",
       "17357  web scraper using Groovy & jsoup, ranks top 10...   \n",
       "17358  Simple python scraper to convert saved .html o...   \n",
       "17359  A github scraper to get a list of all the meth...   \n",
       "17360  A simpe scraper using scrapy to generate a lis...   \n",
       "17361  web scraper to compare cnn and fox news rating...   \n",
       "17362  Scraper for various \"Not always\" sites to gene...   \n",
       "17363  active web scraper program which searchs for I...   \n",
       "17364  Web Scraper and Aggregator of job listings tha...   \n",
       "17365  A bulbapedia scraper to pull data from all exi...   \n",
       "\n",
       "                                                html_url  forks_count  \\\n",
       "0               https://github.com/openeventdata/scraper           22   \n",
       "1              https://github.com/NikolaiT/GoogleScraper          161   \n",
       "2                       https://github.com/ivolo/scraper            2   \n",
       "3               https://github.com/cleure/Amazon-Scraper            4   \n",
       "4                     https://github.com/sap1ens/scraper            5   \n",
       "5                https://github.com/tounano/form-scraper            6   \n",
       "6       https://github.com/abelsonlive/scrape-the-gibson            9   \n",
       "7            https://github.com/Genius/trackback_scraper           12   \n",
       "8      https://github.com/martinsbalodis/web-scraper-...           63   \n",
       "9             https://github.com/iandees/social_scrapers            3   \n",
       "10           https://github.com/risan/jne-tariff-scraper            3   \n",
       "11                https://github.com/openaustralia/morph           27   \n",
       "12                  https://github.com/nikhilsid/Scraper            0   \n",
       "13                 https://github.com/sghall/web-scraper            2   \n",
       "14               https://github.com/fredheir/WebScraping           12   \n",
       "15                   https://github.com/jwmarcus/scraper            0   \n",
       "16                     https://github.com/rubn-g/scraper            1   \n",
       "17                   https://github.com/boblauer/scraper            0   \n",
       "18       https://github.com/magic890/tripadvisor-scraper            7   \n",
       "19                  https://github.com/anoopmail/scraper            0   \n",
       "20          https://github.com/elifitch/unsplash-scraper            7   \n",
       "21       https://github.com/Queens-Hacks/qcumber-scraper            2   \n",
       "22     https://github.com/mjhea0/node-request-cheerio...            1   \n",
       "23             https://github.com/SmeegeSec/SmeegeScrape            4   \n",
       "24             https://github.com/codefordayton/scrapers            6   \n",
       "25                         https://github.com/fmap/krake            3   \n",
       "26         https://github.com/jasongi/blackboard_scraper            5   \n",
       "27           https://github.com/sdrobs/HMA-Proxy-Scraper            6   \n",
       "28              https://github.com/jeresig/stack-scraper            2   \n",
       "29                 https://github.com/vkammerer/scrapers            0   \n",
       "...                                                  ...          ...   \n",
       "17336                    https://github.com/revan/Annals            0   \n",
       "17337         https://github.com/harababurel/gimmeHumour            0   \n",
       "17338  https://github.com/charming-chino/ParkAssist.S...            1   \n",
       "17339     https://github.com/Fedict/datagovbe-tools-java            0   \n",
       "17340  https://github.com/lukealford/warrnambool-weat...            0   \n",
       "17341        https://github.com/tobiasmcnulty/amzscraper            0   \n",
       "17342       https://github.com/luismachado/MyReleaseFeed            0   \n",
       "17343     https://github.com/Vengat/poltergeist_learning            0   \n",
       "17344                https://github.com/dmwyatt/makebank            0   \n",
       "17345  https://github.com/prashantb1984/thelearningpo...            0   \n",
       "17346  https://github.com/johnfranolich/TekCollect-pr...            0   \n",
       "17347            https://github.com/lokeshsah7/oddsforme            0   \n",
       "17348              https://github.com/macrov/jdan_scrapy            0   \n",
       "17349     https://github.com/marcusguttenplan/tweescrape            0   \n",
       "17350                   https://github.com/bartlesy/FASB            0   \n",
       "17351        https://github.com/techvineet/samplescraper            0   \n",
       "17352           https://github.com/MikeSilvis/sports-api            0   \n",
       "17353         https://github.com/barelyknown/casper_pets            0   \n",
       "17354               https://github.com/UVClay/mtgscraper            0   \n",
       "17355         https://github.com/michaelbritt/kivahelper            0   \n",
       "17356                     https://github.com/camateg/kqv            0   \n",
       "17357  https://github.com/thekevincurtin/ESEAForumRan...            0   \n",
       "17358          https://github.com/angshenting/OKCscraper            0   \n",
       "17359       https://github.com/wcjohnson11/method-finder            0   \n",
       "17360       https://github.com/jon-xavier/russianscraper            0   \n",
       "17361                 https://github.com/erratik/ratings            0   \n",
       "17362           https://github.com/ipsi/notalwaysscraper            0   \n",
       "17363  https://github.com/saulwiggin/CodeIgniteralbright            0   \n",
       "17364             https://github.com/sarahjschultz/jobby            0   \n",
       "17365      https://github.com/sleepingkirby/bulbascraper            0   \n",
       "\n",
       "       stargazers_count  watchers_count            updated_at  \\\n",
       "0                    21              21  2015-08-07T12:29:22Z   \n",
       "1                   620             620  2015-08-17T11:59:36Z   \n",
       "2                     7               7  2015-01-27T19:46:35Z   \n",
       "3                    11              11  2015-07-19T10:03:53Z   \n",
       "4                     9               9  2015-07-19T04:38:06Z   \n",
       "5                     8               8  2015-08-18T08:18:43Z   \n",
       "6                    22              22  2015-07-11T07:53:06Z   \n",
       "7                   118             118  2015-07-16T14:20:18Z   \n",
       "8                   205             205  2015-08-20T00:13:09Z   \n",
       "9                    20              20  2015-07-21T19:15:58Z   \n",
       "10                    2               2  2015-08-19T16:11:41Z   \n",
       "11                  164             164  2015-08-20T17:22:16Z   \n",
       "12                    3               3  2015-06-22T22:12:10Z   \n",
       "13                    3               3  2014-08-18T00:26:05Z   \n",
       "14                   14              14  2015-07-07T06:59:13Z   \n",
       "15                    0               0  2013-12-10T13:47:28Z   \n",
       "16                    0               0  2013-11-19T11:04:50Z   \n",
       "17                    0               0  2013-11-20T04:24:07Z   \n",
       "18                    8               8  2015-07-16T14:46:11Z   \n",
       "19                    0               0  2014-01-27T07:58:08Z   \n",
       "20                    5               5  2015-08-03T13:14:34Z   \n",
       "21                    2               2  2014-12-06T20:25:36Z   \n",
       "22                    2               2  2014-10-30T13:24:10Z   \n",
       "23                   14              14  2015-06-23T09:46:36Z   \n",
       "24                    0               0  2015-06-06T19:28:07Z   \n",
       "25                    7               7  2015-01-05T22:42:56Z   \n",
       "26                    5               5  2015-08-06T13:00:49Z   \n",
       "27                   11              11  2015-07-28T05:10:59Z   \n",
       "28                   50              50  2015-08-18T04:42:57Z   \n",
       "29                    0               0  2015-03-27T22:22:30Z   \n",
       "...                 ...             ...                   ...   \n",
       "17336                 0               0  2015-08-11T08:25:46Z   \n",
       "17337                 0               0  2015-08-18T21:08:40Z   \n",
       "17338                 0               0  2015-08-18T18:20:24Z   \n",
       "17339                 0               0  2015-08-03T06:30:29Z   \n",
       "17340                 0               0  2015-08-20T12:34:43Z   \n",
       "17341                 0               0  2015-08-01T23:34:03Z   \n",
       "17342                 0               0  2015-07-31T13:49:01Z   \n",
       "17343                 0               0  2015-08-01T07:39:42Z   \n",
       "17344                 0               0  2015-08-17T14:17:16Z   \n",
       "17345                 0               0  2015-08-18T13:31:03Z   \n",
       "17346                 0               0  2015-08-01T20:18:19Z   \n",
       "17347                 0               0  2015-08-08T11:24:42Z   \n",
       "17348                 0               0  2015-08-04T09:11:24Z   \n",
       "17349                 1               1  2015-08-10T08:10:16Z   \n",
       "17350                 0               0  2015-08-14T03:00:35Z   \n",
       "17351                 0               0  2015-08-13T06:52:45Z   \n",
       "17352                 1               1  2015-08-20T18:21:02Z   \n",
       "17353                 1               1  2015-08-04T18:45:07Z   \n",
       "17354                 0               0  2015-08-09T21:18:23Z   \n",
       "17355                 0               0  2015-08-08T07:03:02Z   \n",
       "17356                 0               0  2015-08-12T22:07:43Z   \n",
       "17357                 0               0  2015-08-12T04:48:39Z   \n",
       "17358                 0               0  2015-07-31T10:29:41Z   \n",
       "17359                 0               0  2015-07-31T03:57:49Z   \n",
       "17360                 0               0  2015-08-07T20:43:56Z   \n",
       "17361                 0               0  2015-08-10T00:09:21Z   \n",
       "17362                 0               0  2015-08-10T21:51:32Z   \n",
       "17363                 0               0  2015-08-13T13:57:59Z   \n",
       "17364                 0               0  2015-08-20T02:04:43Z   \n",
       "17365                 0               0  2015-08-07T22:05:51Z   \n",
       "\n",
       "                 created_at   size  open_issues_count has_downloads  \\\n",
       "0      2014-01-26T01:18:53Z    520                  2          True   \n",
       "1      2013-12-06T15:34:20Z  17215                 52          True   \n",
       "2      2014-01-12T02:18:44Z    166                  4          True   \n",
       "3      2013-11-04T23:52:37Z    356                  0          True   \n",
       "4      2013-10-31T04:11:07Z    185                  0          True   \n",
       "5      2013-12-20T15:28:11Z    190                  1          True   \n",
       "6      2013-12-04T15:21:51Z    180                  0          True   \n",
       "7      2013-12-30T16:57:18Z    141                  0          True   \n",
       "8      2013-11-23T19:14:29Z   2322                 57          True   \n",
       "9      2014-01-06T17:29:39Z    136                  0          True   \n",
       "10     2014-01-18T08:01:04Z    272                  0          True   \n",
       "11     2013-12-22T05:39:05Z   8095                208          True   \n",
       "12     2013-11-30T20:07:21Z    260                  0          True   \n",
       "13     2014-01-10T17:32:54Z    420                  0          True   \n",
       "14     2013-12-26T09:08:34Z   7467                  0          True   \n",
       "15     2013-11-26T21:06:48Z    108                  0          True   \n",
       "16     2013-11-05T15:48:31Z    120                  0          True   \n",
       "17     2013-11-20T00:58:21Z    112                  0          True   \n",
       "18     2014-01-08T22:59:27Z    146                  0          True   \n",
       "19     2014-01-27T07:24:55Z    968                  0          True   \n",
       "20     2014-01-19T16:41:23Z    144                  0          True   \n",
       "21     2013-11-20T03:53:21Z    531                 10          True   \n",
       "22     2013-12-19T19:50:37Z     80                  0          True   \n",
       "23     2014-01-27T20:50:43Z    396                  0          True   \n",
       "24     2013-12-31T17:50:07Z    547                  5          True   \n",
       "25     2013-11-24T09:47:48Z    353                  2          True   \n",
       "26     2013-11-14T06:31:43Z  37794                  1          True   \n",
       "27     2014-01-19T00:51:02Z    127                  0          True   \n",
       "28     2014-01-31T19:20:11Z   1414                  0          True   \n",
       "29     2014-01-02T22:32:20Z    144                  0          True   \n",
       "...                     ...    ...                ...           ...   \n",
       "17336  2015-08-10T04:29:48Z    120                  0          True   \n",
       "17337  2015-08-18T19:44:47Z      0                  0          True   \n",
       "17338  2015-08-18T18:20:24Z      0                  0          True   \n",
       "17339  2015-08-03T06:17:37Z    188                  0          True   \n",
       "17340  2015-08-20T12:33:09Z      0                  0          True   \n",
       "17341  2015-08-01T23:21:13Z    140                  0          True   \n",
       "17342  2015-07-31T13:46:48Z    164                  0          True   \n",
       "17343  2015-08-01T07:36:36Z    480                  0          True   \n",
       "17344  2015-08-17T14:16:32Z      0                  0          True   \n",
       "17345  2015-08-18T13:31:03Z      0                  0          True   \n",
       "17346  2015-08-01T20:18:19Z      0                  0          True   \n",
       "17347  2015-08-08T11:22:36Z    120                  0          True   \n",
       "17348  2015-08-04T09:08:39Z    220                  0          True   \n",
       "17349  2015-08-10T08:06:11Z    116                  0          True   \n",
       "17350  2015-08-14T02:55:06Z      0                  0          True   \n",
       "17351  2015-08-13T06:49:05Z    116                  0          True   \n",
       "17352  2015-08-10T00:34:49Z    216                  0          True   \n",
       "17353  2015-08-04T04:25:23Z    108                  0          True   \n",
       "17354  2015-08-09T21:18:23Z    128                  0          True   \n",
       "17355  2015-08-08T07:03:02Z      0                  0          True   \n",
       "17356  2015-08-12T22:04:58Z    140                  0          True   \n",
       "17357  2015-08-12T04:45:16Z    408                  0          True   \n",
       "17358  2015-07-31T10:29:41Z    144                  0          True   \n",
       "17359  2015-07-31T03:57:49Z    120                  0          True   \n",
       "17360  2015-08-07T20:43:29Z    120                  0          True   \n",
       "17361  2015-08-09T22:24:05Z    192                  0          True   \n",
       "17362  2015-08-10T19:40:48Z    136                  0          True   \n",
       "17363  2015-08-12T20:43:24Z   2188                  0          True   \n",
       "17364  2015-08-18T23:57:00Z      0                  0          True   \n",
       "17365  2015-08-05T03:28:07Z    152                  0          True   \n",
       "\n",
       "           score      language                                    full_name  \\\n",
       "0      46.280060        Python                        openeventdata/scraper   \n",
       "1      35.007828          HTML                       NikolaiT/GoogleScraper   \n",
       "2      25.522753    JavaScript                                ivolo/scraper   \n",
       "3      19.099678        Python                        cleure/Amazon-Scraper   \n",
       "4      19.032696         Scala                              sap1ens/scraper   \n",
       "5      19.018940    JavaScript                         tounano/form-scraper   \n",
       "6      12.688292        Python                abelsonlive/scrape-the-gibson   \n",
       "7      12.162844          Ruby                     Genius/trackback_scraper   \n",
       "8      12.162844    JavaScript  martinsbalodis/web-scraper-chrome-extension   \n",
       "9      11.823298        Python                      iandees/social_scrapers   \n",
       "10     11.708290           PHP                     risan/jne-tariff-scraper   \n",
       "11     11.481838          Ruby                          openaustralia/morph   \n",
       "12     11.478731          None                            nikhilsid/Scraper   \n",
       "13     11.433298    JavaScript                           sghall/web-scraper   \n",
       "14     10.947548             R                         fredheir/WebScraping   \n",
       "15     10.698280  CoffeeScript                             jwmarcus/scraper   \n",
       "16      9.353048           PHP                               rubn-g/scraper   \n",
       "17      9.014535    JavaScript                             boblauer/scraper   \n",
       "18      8.977355        Python                 magic890/tripadvisor-scraper   \n",
       "19      8.845279          Java                            anoopmail/scraper   \n",
       "20      8.687745    JavaScript                    elifitch/unsplash-scraper   \n",
       "21      8.638603        Python                 Queens-Hacks/qcumber-scraper   \n",
       "22      8.346199    JavaScript          mjhea0/node-request-cheerio-scraper   \n",
       "23      8.177273        Python                       SmeegeSec/SmeegeScrape   \n",
       "24      7.595993          HTML                       codefordayton/scrapers   \n",
       "25      7.176149    JavaScript                                   fmap/krake   \n",
       "26      7.016223           Tcl                   jasongi/blackboard_scraper   \n",
       "27      7.016223    JavaScript                     sdrobs/HMA-Proxy-Scraper   \n",
       "28      7.016223    JavaScript                        jeresig/stack-scraper   \n",
       "29      6.794204    JavaScript                           vkammerer/scrapers   \n",
       "...          ...           ...                                          ...   \n",
       "17336   0.388404        Python                                 revan/Annals   \n",
       "17337   0.388404        Python                      harababurel/gimmeHumour   \n",
       "17338   0.388404          None             charming-chino/ParkAssist.Server   \n",
       "17339   0.388404          Java                  Fedict/datagovbe-tools-java   \n",
       "17340   0.388404    JavaScript         lukealford/warrnambool-weatherscrape   \n",
       "17341   0.327543        Python                     tobiasmcnulty/amzscraper   \n",
       "17342   0.327543    JavaScript                    luismachado/MyReleaseFeed   \n",
       "17343   0.327543    JavaScript                  Vengat/poltergeist_learning   \n",
       "17344   0.327543        Python                             dmwyatt/makebank   \n",
       "17345   0.327543          None           prashantb1984/thelearningpoint.net   \n",
       "17346   0.323670          None             johnfranolich/TekCollect-proxied   \n",
       "17347   0.323670        Python                         lokeshsah7/oddsforme   \n",
       "17348   0.323670        Python                           macrov/jdan_scrapy   \n",
       "17349   0.323670        Python                  marcusguttenplan/tweescrape   \n",
       "17350   0.323670        Python                                bartlesy/FASB   \n",
       "17351   0.323670          Ruby                     techvineet/samplescraper   \n",
       "17352   0.323670          HTML                        MikeSilvis/sports-api   \n",
       "17353   0.262035          Ruby                      barelyknown/casper_pets   \n",
       "17354   0.262035          None                            UVClay/mtgscraper   \n",
       "17355   0.262035          None                      michaelbritt/kivahelper   \n",
       "17356   0.262035    JavaScript                                  camateg/kqv   \n",
       "17357   0.262035        Groovy             thekevincurtin/ESEAForumRankings   \n",
       "17358   0.262035          None                       angshenting/OKCscraper   \n",
       "17359   0.262035          None                    wcjohnson11/method-finder   \n",
       "17360   0.258936        Python                    jon-xavier/russianscraper   \n",
       "17361   0.258936    JavaScript                              erratik/ratings   \n",
       "17362   0.258936        Python                        ipsi/notalwaysscraper   \n",
       "17363   0.226569          HTML               saulwiggin/CodeIgniteralbright   \n",
       "17364   0.194202          Ruby                          sarahjschultz/jobby   \n",
       "17365   0.129468           PHP                   sleepingkirby/bulbascraper   \n",
       "\n",
       "      created_ym  score_round  \n",
       "0        2014-01        46.28  \n",
       "1        2013-12        35.01  \n",
       "2        2014-01        25.52  \n",
       "3        2013-11        19.10  \n",
       "4        2013-10        19.03  \n",
       "5        2013-12        19.02  \n",
       "6        2013-12        12.69  \n",
       "7        2013-12        12.16  \n",
       "8        2013-11        12.16  \n",
       "9        2014-01        11.82  \n",
       "10       2014-01        11.71  \n",
       "11       2013-12        11.48  \n",
       "12       2013-11        11.48  \n",
       "13       2014-01        11.43  \n",
       "14       2013-12        10.95  \n",
       "15       2013-11        10.70  \n",
       "16       2013-11         9.35  \n",
       "17       2013-11         9.01  \n",
       "18       2014-01         8.98  \n",
       "19       2014-01         8.85  \n",
       "20       2014-01         8.69  \n",
       "21       2013-11         8.64  \n",
       "22       2013-12         8.35  \n",
       "23       2014-01         8.18  \n",
       "24       2013-12         7.60  \n",
       "25       2013-11         7.18  \n",
       "26       2013-11         7.02  \n",
       "27       2014-01         7.02  \n",
       "28       2014-01         7.02  \n",
       "29       2014-01         6.79  \n",
       "...          ...          ...  \n",
       "17336    2015-08         0.39  \n",
       "17337    2015-08         0.39  \n",
       "17338    2015-08         0.39  \n",
       "17339    2015-08         0.39  \n",
       "17340    2015-08         0.39  \n",
       "17341    2015-08         0.33  \n",
       "17342    2015-07         0.33  \n",
       "17343    2015-08         0.33  \n",
       "17344    2015-08         0.33  \n",
       "17345    2015-08         0.33  \n",
       "17346    2015-08         0.32  \n",
       "17347    2015-08         0.32  \n",
       "17348    2015-08         0.32  \n",
       "17349    2015-08         0.32  \n",
       "17350    2015-08         0.32  \n",
       "17351    2015-08         0.32  \n",
       "17352    2015-08         0.32  \n",
       "17353    2015-08         0.26  \n",
       "17354    2015-08         0.26  \n",
       "17355    2015-08         0.26  \n",
       "17356    2015-08         0.26  \n",
       "17357    2015-08         0.26  \n",
       "17358    2015-07         0.26  \n",
       "17359    2015-07         0.26  \n",
       "17360    2015-08         0.26  \n",
       "17361    2015-08         0.26  \n",
       "17362    2015-08         0.26  \n",
       "17363    2015-08         0.23  \n",
       "17364    2015-08         0.19  \n",
       "17365    2015-08         0.13  \n",
       "\n",
       "[17366 rows x 16 columns]"
      ]
     },
     "execution_count": 322,
     "metadata": {},
     "output_type": "execute_result"
    }
   ],
   "source": [
    "df.head(5)"
   ]
  },
  {
   "cell_type": "markdown",
   "metadata": {},
   "source": [
    "###2.1 Cleaning dates"
   ]
  },
  {
   "cell_type": "code",
   "execution_count": 223,
   "metadata": {
    "collapsed": false
   },
   "outputs": [
    {
     "name": "stderr",
     "output_type": "stream",
     "text": [
      "/Users/sebastianmunoznajar/Library/Enthought/Canopy_64bit/User/lib/python2.7/site-packages/IPython/kernel/__main__.py:1: SettingWithCopyWarning: \n",
      "A value is trying to be set on a copy of a slice from a DataFrame.\n",
      "Try using .loc[row_indexer,col_indexer] = value instead\n",
      "\n",
      "See the the caveats in the documentation: http://pandas.pydata.org/pandas-docs/stable/indexing.html#indexing-view-versus-copy\n",
      "  if __name__ == '__main__':\n"
     ]
    },
    {
     "data": {
      "text/plain": [
       "count       17366\n",
       "unique         89\n",
       "top       2015-07\n",
       "freq          815\n",
       "Name: created_ym, dtype: object"
      ]
     },
     "execution_count": 223,
     "metadata": {},
     "output_type": "execute_result"
    }
   ],
   "source": [
    "df['created_ym'] = df['created_at'].apply(lambda x: x[0:7])\n",
    "df['created_ym'].describe()"
   ]
  },
  {
   "cell_type": "code",
   "execution_count": 321,
   "metadata": {
    "collapsed": false
   },
   "outputs": [
    {
     "name": "stderr",
     "output_type": "stream",
     "text": [
      "/Users/sebastianmunoznajar/Library/Enthought/Canopy_64bit/User/lib/python2.7/site-packages/IPython/kernel/__main__.py:1: SettingWithCopyWarning: \n",
      "A value is trying to be set on a copy of a slice from a DataFrame.\n",
      "Try using .loc[row_indexer,col_indexer] = value instead\n",
      "\n",
      "See the the caveats in the documentation: http://pandas.pydata.org/pandas-docs/stable/indexing.html#indexing-view-versus-copy\n",
      "  if __name__ == '__main__':\n"
     ]
    },
    {
     "data": {
      "text/plain": [
       "count    17366.000000\n",
       "mean         2.196999\n",
       "std          2.243177\n",
       "min          0.100000\n",
       "25%          0.900000\n",
       "50%          1.770000\n",
       "75%          2.480000\n",
       "max         74.710000\n",
       "Name: score_round, dtype: float64"
      ]
     },
     "execution_count": 321,
     "metadata": {},
     "output_type": "execute_result"
    }
   ],
   "source": [
    "df['score_round'] = df['score'].apply(lambda x: round(x, 2))\n",
    "df['score_round'].describe()"
   ]
  },
  {
   "cell_type": "markdown",
   "metadata": {},
   "source": [
    "###2.2 Getting the README docs\n",
    "I'll make a second database with the name of the scrapers the text of their README."
   ]
  },
  {
   "cell_type": "code",
   "execution_count": 123,
   "metadata": {
    "collapsed": true
   },
   "outputs": [
    {
     "name": "stdout",
     "output_type": "stream",
     "text": [
      "10 20 30 40 50 60 70 80 90 100 110 120 130 140 150 160 170 180 190 200 210 220 230 240 250 260 270 280 290 300 310 320 330 340 350 360 370 380 390 400 410 420 430 440 450 460 470 480 490 500 510 520 530 540 550 560 570 580 590 600 610 620 630 640 650 660 670 680 690 700 710 720 730 740 750 760 770 780 790 800 810 820 830 840 850 860 870 880 890 900 910 920 930 940 950 960 970 980 990 1000 1010 1020 1030 1040 1050 1060 1070 1080 1090 1100 1110 1120 1130 1140 1150 1160 1170 1180 1190 1200 1210 1220 1230 1240 1250 1260 1270 1280 1290 1300 1310 1320 1330 1340 1350 1360 1370 1380 1390 1400 1410 1420 1430 1440 1450 1460 1470 1480 1490 1500 1510 1520 1530 1540 1550 1560 1570 1580 1590 1600 1610 1620 1630 1640 1650 1660 1670 1680 1690 1700 1710 1720 1730 1740 1750 1760 1770 1780 1790 1800 1810 1820 1830 1840 1850 1860 1870 1880 1890 1900 1910 1920 1930 1940 1950 1960 1970 1980 1990 2000 2010 2020 2030 2040 2050 2060 2070 2080 2090 2100 2110 2120 2130 2140 2150 2160 2170 2180 2190 2200 2210 2220 2230 2240 2250 2260 2270 2280 2290 2300 2310 2320 2330 2340 2350 2360 2370 2380 2390 2400 2410 2420 2430 2440 2450 2460 2470 2480 2490 2500 2510 2520 2530 2540 2550 2560 2570 2580 2590 2600 2610 2620 2630 2640 2650 2660 2670 2680 2690 2700 2710 2720 2730 2740 2750 2760 2770 2780 2790 2800 2810 2820 2830 2840 2850 2860 2870 2880 2890 2900 2910 2920 2930 2940 2950 2960 2970 2980 2990 3000 3010 3020 3030 3040 3050 3060 3070 3080 3090 3100 3110 3120 3130 3140 3150 3160 3170 3180 3190 3200 3210 3220 3230 3240 3250 3260 3270 3280 3290 3300 3310 3320 3330 3340 3350 3360 3370 3380 3390 3400 3410 3420 3430 3440 3450 3460 3470 3480 3490 3500 3510 3520 3530 3540 3550 3560 3570 3580 3590 3600 3610 3620 3630 3640 3650 3660 3670 3680 3690 3700 3710 3720 3730 3740 3750 3760 3770 3780 3790 3800 3810 3820 3830 3840 3850 3860 3870 3880 3890 3900 3910 3920 3930 3940 3950 3960 3970 3980 3990 4000 4010 4020 4030 4040 4050 4060 4070 4080 4090 4100 4110 4120 4130 4140 4150 4160 4170 4180 4190 4200 4210 4220 4230 4240 4250 4260 4270 4280 4290 4300 4310 4320 4330 4340 4350 4360 4370 4380 4390 4400 4410 4420 4430 4440 4450 4460 4470 4480 4490 4500 4510 4520 4530 4540 4550 4560 4570 4580 4590 4600 4610 4620 4630 4640 4650 4660 4670 4680 4690 4700 4710 4720 4730 4740 4750 4760 4770 4780 4790 4800 4810 4820 4830 4840 4850 4860 4870 4880 4890 4900 4910 4920 4930 4940 4950 4960 4970 4980 4990 5000 5010 5020 5030 5040 5050 5060 5070 5080 5090 5100 5110 5120 5130 5140 5150 5160 5170 5180 5190 5200 5210 5220 5230 5240 5250 5260 5270 5280 5290 5300 5310 5320 5330 5340 5350 5360 5370 5380 5390 5400 5410 5420 5430 5440 5450 5460 5470 5480 5490 5500 5510 5520 5530 5540 5550 5560 5570 5580 5590 5600 5610 5620 5630 5640 5650 5660 5670 5680 5690 5700 5710 5720 5730 5740 5750 5760 5770 5780 5790 5800 5810 5820 5830 5840 5850 5860 5870 5880 5890 5900 5910 5920 5930 5940 5950 5960 5970 5980 5990 6000 6010 6020 6030 6040 6050 6060 6070 6080 6090 6100 6110 6120 6130 6140 6150 6160 6170 6180 6190 6200 6210 6220 6230 6240 6250 6260 6270 6280 6290 6300 6310 6320 6330 6340 6350 6360 6370 6380 6390 6400 6410 6420 6430 6440 6450 6460 6470 6480 6490 6500 6510 6520 6530 6540 6550 6560 6570 6580 6590 6600 6610 6620 6630 6640 6650 6660 6670 6680 6690 6700 6710 6720 6730 6740 6750 6760 6770 6780 6790 6800 6810 6820 6830 6840 6850 6860 6870 6880 6890 6900 6910 6920 6930 6940 6950 6960 6970 6980 6990 7000 7010 7020 7030 7040 7050 7060 7070 7080 7090 7100 7110 7120 7130 7140 7150 7160 7170 7180 7190 7200 7210 7220 7230 7240 7250 7260 7270 7280 7290 7300 7310 7320 7330 7340 7350 7360 7370 7380 7390 7400 7410 7420 7430 7440 7450 7460 7470 7480 7490 7500 7510 7520 7530 7540 7550 7560 7570 7580 7590 7600 7610 7620 7630 7640 7650 7660 7670 7680 7690 7700 7710 7720 7730 7740 7750 7760 7770 7780 7790 7800 7810 7820 7830 7840 7850 7860 7870 7880 7890 7900 7910 7920 7930 7940 7950 7960 7970 7980 7990 8000 8010 8020 8030 8040 8050 8060 8070 8080 8090 8100 8110 8120 8130 8140 8150 8160 8170 8180 8190 8200 8210 8220 8230 8240 8250 8260 8270 8280 8290 8300 8310 8320 8330 8340 8350 8360 8370 8380 8390 8400 8410 8420 8430 8440 8450 8460 8470 8480 8490 8500 8510 8520 8530 8540 8550 8560 8570 8580 8590 8600 8610 8620 8630 8640 8650 8660 8670 8680 8690 8700 8710 8720 8730 8740 8750 8760 8770 8780 8790 8800 8810 8820 8830 8840 8850 8860 8870 8880 8890 8900 8910 8920 8930 8940 8950 8960 8970 8980 8990 9000 9010 9020 9030 9040 9050 9060 9070 9080 9090 9100 9110 9120 9130 9140 9150 9160 9170 9180 9190 9200 9210 9220 9230 9240 9250 9260 9270 9280 9290 9300 9310 9320 9330 9340 9350 9360 9370 9380 9390 9400 9410 9420 9430 9440 9450 9460 9470 9480 9490 9500 9510 9520 9530 9540 9550 9560 9570 9580 9590 9600 9610 9620 9630 9640 9650 9660 9670 9680 9690 9700 9710 9720 9730 9740 9750 9760 9770 9780 9790 9800 9810 9820 9830 9840 9850 9860 9870 9880 9890 9900 9910 9920 9930 9940 9950 9960 9970 9980 9990 10000 10010 10020 10030 10040 10050 10060 10070 10080 10090 10100 10110 10120 10130 10140 10150 10160 10170 10180 10190 10200 10210 10220 10230 10240 10250 10260 10270 10280 10290 10300 10310 10320 10330 10340 10350 10360 10370 10380 10390 10400 10410 10420 10430 10440 10450 10460 10470 10480 10490 10500 10510 10520 10530 10540 10550 10560 10570 10580 10590 10600 10610 10620 10630 10640 10650 10660 10670 10680 10690 10700 10710 10720 10730 10740 10750 10760 10770 10780 10790 10800 10810 10820 10830 10840 10850 10860 10870 10880 10890 10900 10910 10920 10930 10940 10950 10960 10970 10980 10990 11000 11010 11020 11030 11040 11050 11060 11070 11080 11090 11100 11110 11120 11130 11140 11150 11160 11170 11180 11190 11200 11210 11220 11230 11240 11250 11260 11270 11280 11290 11300 11310 11320 11330 11340 11350 11360 11370 11380 11390 11400 11410 11420 11430 11440"
     ]
    },
    {
     "ename": "ConnectionError",
     "evalue": "('Connection aborted.', gaierror(8, 'nodename nor servname provided, or not known'))",
     "output_type": "error",
     "traceback": [
      "\u001b[0;31m---------------------------------------------------------------------------\u001b[0m",
      "\u001b[0;31mConnectionError\u001b[0m                           Traceback (most recent call last)",
      "\u001b[0;32m<ipython-input-123-6e05384728f5>\u001b[0m in \u001b[0;36m<module>\u001b[0;34m()\u001b[0m\n\u001b[1;32m      3\u001b[0m \u001b[0;32mfor\u001b[0m \u001b[0murl\u001b[0m \u001b[0;32min\u001b[0m \u001b[0mdf\u001b[0m\u001b[0;34m.\u001b[0m\u001b[0mloc\u001b[0m\u001b[0;34m[\u001b[0m\u001b[0;34m:\u001b[0m\u001b[0;34m,\u001b[0m \u001b[0;34m'html_url'\u001b[0m\u001b[0;34m]\u001b[0m\u001b[0;34m:\u001b[0m\u001b[0;34m\u001b[0m\u001b[0m\n\u001b[1;32m      4\u001b[0m     \u001b[0;32mif\u001b[0m \u001b[0murl\u001b[0m\u001b[0;34m:\u001b[0m\u001b[0;34m\u001b[0m\u001b[0m\n\u001b[0;32m----> 5\u001b[0;31m         a = BeautifulSoup(requests.get(url).text, \n\u001b[0m\u001b[1;32m      6\u001b[0m               \u001b[0;34m'html.parser'\u001b[0m\u001b[0;34m)\u001b[0m\u001b[0;34m.\u001b[0m\u001b[0mfindAll\u001b[0m\u001b[0;34m(\u001b[0m\u001b[0;34m'article'\u001b[0m\u001b[0;34m,\u001b[0m\u001b[0;34m\u001b[0m\u001b[0m\n\u001b[1;32m      7\u001b[0m                                      attrs={'class':'markdown-body entry-content'})\n",
      "\u001b[0;32m/Users/sebastianmunoznajar/Library/Enthought/Canopy_64bit/User/lib/python2.7/site-packages/requests/api.pyc\u001b[0m in \u001b[0;36mget\u001b[0;34m(url, params, **kwargs)\u001b[0m\n\u001b[1;32m     67\u001b[0m \u001b[0;34m\u001b[0m\u001b[0m\n\u001b[1;32m     68\u001b[0m     \u001b[0mkwargs\u001b[0m\u001b[0;34m.\u001b[0m\u001b[0msetdefault\u001b[0m\u001b[0;34m(\u001b[0m\u001b[0;34m'allow_redirects'\u001b[0m\u001b[0;34m,\u001b[0m \u001b[0mTrue\u001b[0m\u001b[0;34m)\u001b[0m\u001b[0;34m\u001b[0m\u001b[0m\n\u001b[0;32m---> 69\u001b[0;31m     \u001b[0;32mreturn\u001b[0m \u001b[0mrequest\u001b[0m\u001b[0;34m(\u001b[0m\u001b[0;34m'get'\u001b[0m\u001b[0;34m,\u001b[0m \u001b[0murl\u001b[0m\u001b[0;34m,\u001b[0m \u001b[0mparams\u001b[0m\u001b[0;34m=\u001b[0m\u001b[0mparams\u001b[0m\u001b[0;34m,\u001b[0m \u001b[0;34m**\u001b[0m\u001b[0mkwargs\u001b[0m\u001b[0;34m)\u001b[0m\u001b[0;34m\u001b[0m\u001b[0m\n\u001b[0m\u001b[1;32m     70\u001b[0m \u001b[0;34m\u001b[0m\u001b[0m\n\u001b[1;32m     71\u001b[0m \u001b[0;34m\u001b[0m\u001b[0m\n",
      "\u001b[0;32m/Users/sebastianmunoznajar/Library/Enthought/Canopy_64bit/User/lib/python2.7/site-packages/requests/api.pyc\u001b[0m in \u001b[0;36mrequest\u001b[0;34m(method, url, **kwargs)\u001b[0m\n\u001b[1;32m     48\u001b[0m \u001b[0;34m\u001b[0m\u001b[0m\n\u001b[1;32m     49\u001b[0m     \u001b[0msession\u001b[0m \u001b[0;34m=\u001b[0m \u001b[0msessions\u001b[0m\u001b[0;34m.\u001b[0m\u001b[0mSession\u001b[0m\u001b[0;34m(\u001b[0m\u001b[0;34m)\u001b[0m\u001b[0;34m\u001b[0m\u001b[0m\n\u001b[0;32m---> 50\u001b[0;31m     \u001b[0mresponse\u001b[0m \u001b[0;34m=\u001b[0m \u001b[0msession\u001b[0m\u001b[0;34m.\u001b[0m\u001b[0mrequest\u001b[0m\u001b[0;34m(\u001b[0m\u001b[0mmethod\u001b[0m\u001b[0;34m=\u001b[0m\u001b[0mmethod\u001b[0m\u001b[0;34m,\u001b[0m \u001b[0murl\u001b[0m\u001b[0;34m=\u001b[0m\u001b[0murl\u001b[0m\u001b[0;34m,\u001b[0m \u001b[0;34m**\u001b[0m\u001b[0mkwargs\u001b[0m\u001b[0;34m)\u001b[0m\u001b[0;34m\u001b[0m\u001b[0m\n\u001b[0m\u001b[1;32m     51\u001b[0m     \u001b[0;31m# By explicitly closing the session, we avoid leaving sockets open which\u001b[0m\u001b[0;34m\u001b[0m\u001b[0;34m\u001b[0m\u001b[0m\n\u001b[1;32m     52\u001b[0m     \u001b[0;31m# can trigger a ResourceWarning in some cases, and look like a memory leak\u001b[0m\u001b[0;34m\u001b[0m\u001b[0;34m\u001b[0m\u001b[0m\n",
      "\u001b[0;32m/Users/sebastianmunoznajar/Library/Enthought/Canopy_64bit/User/lib/python2.7/site-packages/requests/sessions.pyc\u001b[0m in \u001b[0;36mrequest\u001b[0;34m(self, method, url, params, data, headers, cookies, files, auth, timeout, allow_redirects, proxies, hooks, stream, verify, cert, json)\u001b[0m\n\u001b[1;32m    463\u001b[0m         }\n\u001b[1;32m    464\u001b[0m         \u001b[0msend_kwargs\u001b[0m\u001b[0;34m.\u001b[0m\u001b[0mupdate\u001b[0m\u001b[0;34m(\u001b[0m\u001b[0msettings\u001b[0m\u001b[0;34m)\u001b[0m\u001b[0;34m\u001b[0m\u001b[0m\n\u001b[0;32m--> 465\u001b[0;31m         \u001b[0mresp\u001b[0m \u001b[0;34m=\u001b[0m \u001b[0mself\u001b[0m\u001b[0;34m.\u001b[0m\u001b[0msend\u001b[0m\u001b[0;34m(\u001b[0m\u001b[0mprep\u001b[0m\u001b[0;34m,\u001b[0m \u001b[0;34m**\u001b[0m\u001b[0msend_kwargs\u001b[0m\u001b[0;34m)\u001b[0m\u001b[0;34m\u001b[0m\u001b[0m\n\u001b[0m\u001b[1;32m    466\u001b[0m \u001b[0;34m\u001b[0m\u001b[0m\n\u001b[1;32m    467\u001b[0m         \u001b[0;32mreturn\u001b[0m \u001b[0mresp\u001b[0m\u001b[0;34m\u001b[0m\u001b[0m\n",
      "\u001b[0;32m/Users/sebastianmunoznajar/Library/Enthought/Canopy_64bit/User/lib/python2.7/site-packages/requests/sessions.pyc\u001b[0m in \u001b[0;36msend\u001b[0;34m(self, request, **kwargs)\u001b[0m\n\u001b[1;32m    571\u001b[0m \u001b[0;34m\u001b[0m\u001b[0m\n\u001b[1;32m    572\u001b[0m         \u001b[0;31m# Send the request\u001b[0m\u001b[0;34m\u001b[0m\u001b[0;34m\u001b[0m\u001b[0m\n\u001b[0;32m--> 573\u001b[0;31m         \u001b[0mr\u001b[0m \u001b[0;34m=\u001b[0m \u001b[0madapter\u001b[0m\u001b[0;34m.\u001b[0m\u001b[0msend\u001b[0m\u001b[0;34m(\u001b[0m\u001b[0mrequest\u001b[0m\u001b[0;34m,\u001b[0m \u001b[0;34m**\u001b[0m\u001b[0mkwargs\u001b[0m\u001b[0;34m)\u001b[0m\u001b[0;34m\u001b[0m\u001b[0m\n\u001b[0m\u001b[1;32m    574\u001b[0m \u001b[0;34m\u001b[0m\u001b[0m\n\u001b[1;32m    575\u001b[0m         \u001b[0;31m# Total elapsed time of the request (approximately)\u001b[0m\u001b[0;34m\u001b[0m\u001b[0;34m\u001b[0m\u001b[0m\n",
      "\u001b[0;32m/Users/sebastianmunoznajar/Library/Enthought/Canopy_64bit/User/lib/python2.7/site-packages/requests/adapters.pyc\u001b[0m in \u001b[0;36msend\u001b[0;34m(self, request, stream, timeout, verify, cert, proxies)\u001b[0m\n\u001b[1;32m    413\u001b[0m \u001b[0;34m\u001b[0m\u001b[0m\n\u001b[1;32m    414\u001b[0m         \u001b[0;32mexcept\u001b[0m \u001b[0;34m(\u001b[0m\u001b[0mProtocolError\u001b[0m\u001b[0;34m,\u001b[0m \u001b[0msocket\u001b[0m\u001b[0;34m.\u001b[0m\u001b[0merror\u001b[0m\u001b[0;34m)\u001b[0m \u001b[0;32mas\u001b[0m \u001b[0merr\u001b[0m\u001b[0;34m:\u001b[0m\u001b[0;34m\u001b[0m\u001b[0m\n\u001b[0;32m--> 415\u001b[0;31m             \u001b[0;32mraise\u001b[0m \u001b[0mConnectionError\u001b[0m\u001b[0;34m(\u001b[0m\u001b[0merr\u001b[0m\u001b[0;34m,\u001b[0m \u001b[0mrequest\u001b[0m\u001b[0;34m=\u001b[0m\u001b[0mrequest\u001b[0m\u001b[0;34m)\u001b[0m\u001b[0;34m\u001b[0m\u001b[0m\n\u001b[0m\u001b[1;32m    416\u001b[0m \u001b[0;34m\u001b[0m\u001b[0m\n\u001b[1;32m    417\u001b[0m         \u001b[0;32mexcept\u001b[0m \u001b[0mMaxRetryError\u001b[0m \u001b[0;32mas\u001b[0m \u001b[0me\u001b[0m\u001b[0;34m:\u001b[0m\u001b[0;34m\u001b[0m\u001b[0m\n",
      "\u001b[0;31mConnectionError\u001b[0m: ('Connection aborted.', gaierror(8, 'nodename nor servname provided, or not known'))"
     ]
    }
   ],
   "source": [
    "readme = []\n",
    "count = 0\n",
    "for url in df.loc[:, 'html_url']:\n",
    "    if url:\n",
    "        a = BeautifulSoup(requests.get(url).text, \n",
    "              'html.parser').findAll('article', \n",
    "                                     attrs={'class':'markdown-body entry-content'})\n",
    "    if len(a) != 0:\n",
    "        readme.append(a[0].text)\n",
    "    else:\n",
    "        readme.append('None')\n",
    "    count += 1\n",
    "    if count >= 10 and count % 10 == 0:\n",
    "        print count,"
   ]
  },
  {
   "cell_type": "code",
   "execution_count": 127,
   "metadata": {
    "collapsed": true
   },
   "outputs": [
    {
     "name": "stdout",
     "output_type": "stream",
     "text": [
      "10 20 30 40 50 60 70 80 90 100 110 120 130 140 150 160 170 180 190 200 210 220 230 240 250 260 270 280 290 300 310 320 330 340 350 360 370 380 390 400 410 420 430 440 450 460 470 480 490 500 510 520 530 540 550 560 570 580 590 600 610 620 630 640 650 660 670 680 690 700 710 720 730 740 750 760 770 780 790 800 810 820 830 840 850 860 870 880 890 900 910 920 930 940 950 960 970 980 990 1000 1010 1020 1030 1040 1050 1060 1070 1080 1090 1100 1110 1120 1130 1140 1150 1160 1170 1180 1190 1200 1210 1220 1230 1240 1250 1260 1270 1280 1290 1300 1310 1320 1330 1340 1350 1360 1370 1380 1390 1400 1410 1420 1430 1440 1450 1460 1470 1480 1490 1500 1510 1520 1530 1540 1550"
     ]
    },
    {
     "ename": "ConnectionError",
     "evalue": "('Connection aborted.', error(60, 'Operation timed out'))",
     "output_type": "error",
     "traceback": [
      "\u001b[0;31m---------------------------------------------------------------------------\u001b[0m",
      "\u001b[0;31mConnectionError\u001b[0m                           Traceback (most recent call last)",
      "\u001b[0;32m<ipython-input-127-85ce6c6a8510>\u001b[0m in \u001b[0;36m<module>\u001b[0;34m()\u001b[0m\n\u001b[1;32m      3\u001b[0m \u001b[0;32mfor\u001b[0m \u001b[0murl\u001b[0m \u001b[0;32min\u001b[0m \u001b[0mdf\u001b[0m\u001b[0;34m.\u001b[0m\u001b[0mloc\u001b[0m\u001b[0;34m[\u001b[0m\u001b[0;34m(\u001b[0m\u001b[0mlen\u001b[0m\u001b[0;34m(\u001b[0m\u001b[0mreadme\u001b[0m\u001b[0;34m)\u001b[0m\u001b[0;34m-\u001b[0m\u001b[0;36m1\u001b[0m\u001b[0;34m)\u001b[0m\u001b[0;34m:\u001b[0m\u001b[0;34m,\u001b[0m \u001b[0;34m'html_url'\u001b[0m\u001b[0;34m]\u001b[0m\u001b[0;34m:\u001b[0m\u001b[0;34m\u001b[0m\u001b[0m\n\u001b[1;32m      4\u001b[0m     \u001b[0;32mif\u001b[0m \u001b[0murl\u001b[0m\u001b[0;34m:\u001b[0m\u001b[0;34m\u001b[0m\u001b[0m\n\u001b[0;32m----> 5\u001b[0;31m         a = BeautifulSoup(requests.get(url).text, \n\u001b[0m\u001b[1;32m      6\u001b[0m               \u001b[0;34m'html.parser'\u001b[0m\u001b[0;34m)\u001b[0m\u001b[0;34m.\u001b[0m\u001b[0mfindAll\u001b[0m\u001b[0;34m(\u001b[0m\u001b[0;34m'article'\u001b[0m\u001b[0;34m,\u001b[0m\u001b[0;34m\u001b[0m\u001b[0m\n\u001b[1;32m      7\u001b[0m                                      attrs={'class':'markdown-body entry-content'})\n",
      "\u001b[0;32m/Users/sebastianmunoznajar/Library/Enthought/Canopy_64bit/User/lib/python2.7/site-packages/requests/api.pyc\u001b[0m in \u001b[0;36mget\u001b[0;34m(url, params, **kwargs)\u001b[0m\n\u001b[1;32m     67\u001b[0m \u001b[0;34m\u001b[0m\u001b[0m\n\u001b[1;32m     68\u001b[0m     \u001b[0mkwargs\u001b[0m\u001b[0;34m.\u001b[0m\u001b[0msetdefault\u001b[0m\u001b[0;34m(\u001b[0m\u001b[0;34m'allow_redirects'\u001b[0m\u001b[0;34m,\u001b[0m \u001b[0mTrue\u001b[0m\u001b[0;34m)\u001b[0m\u001b[0;34m\u001b[0m\u001b[0m\n\u001b[0;32m---> 69\u001b[0;31m     \u001b[0;32mreturn\u001b[0m \u001b[0mrequest\u001b[0m\u001b[0;34m(\u001b[0m\u001b[0;34m'get'\u001b[0m\u001b[0;34m,\u001b[0m \u001b[0murl\u001b[0m\u001b[0;34m,\u001b[0m \u001b[0mparams\u001b[0m\u001b[0;34m=\u001b[0m\u001b[0mparams\u001b[0m\u001b[0;34m,\u001b[0m \u001b[0;34m**\u001b[0m\u001b[0mkwargs\u001b[0m\u001b[0;34m)\u001b[0m\u001b[0;34m\u001b[0m\u001b[0m\n\u001b[0m\u001b[1;32m     70\u001b[0m \u001b[0;34m\u001b[0m\u001b[0m\n\u001b[1;32m     71\u001b[0m \u001b[0;34m\u001b[0m\u001b[0m\n",
      "\u001b[0;32m/Users/sebastianmunoznajar/Library/Enthought/Canopy_64bit/User/lib/python2.7/site-packages/requests/api.pyc\u001b[0m in \u001b[0;36mrequest\u001b[0;34m(method, url, **kwargs)\u001b[0m\n\u001b[1;32m     48\u001b[0m \u001b[0;34m\u001b[0m\u001b[0m\n\u001b[1;32m     49\u001b[0m     \u001b[0msession\u001b[0m \u001b[0;34m=\u001b[0m \u001b[0msessions\u001b[0m\u001b[0;34m.\u001b[0m\u001b[0mSession\u001b[0m\u001b[0;34m(\u001b[0m\u001b[0;34m)\u001b[0m\u001b[0;34m\u001b[0m\u001b[0m\n\u001b[0;32m---> 50\u001b[0;31m     \u001b[0mresponse\u001b[0m \u001b[0;34m=\u001b[0m \u001b[0msession\u001b[0m\u001b[0;34m.\u001b[0m\u001b[0mrequest\u001b[0m\u001b[0;34m(\u001b[0m\u001b[0mmethod\u001b[0m\u001b[0;34m=\u001b[0m\u001b[0mmethod\u001b[0m\u001b[0;34m,\u001b[0m \u001b[0murl\u001b[0m\u001b[0;34m=\u001b[0m\u001b[0murl\u001b[0m\u001b[0;34m,\u001b[0m \u001b[0;34m**\u001b[0m\u001b[0mkwargs\u001b[0m\u001b[0;34m)\u001b[0m\u001b[0;34m\u001b[0m\u001b[0m\n\u001b[0m\u001b[1;32m     51\u001b[0m     \u001b[0;31m# By explicitly closing the session, we avoid leaving sockets open which\u001b[0m\u001b[0;34m\u001b[0m\u001b[0;34m\u001b[0m\u001b[0m\n\u001b[1;32m     52\u001b[0m     \u001b[0;31m# can trigger a ResourceWarning in some cases, and look like a memory leak\u001b[0m\u001b[0;34m\u001b[0m\u001b[0;34m\u001b[0m\u001b[0m\n",
      "\u001b[0;32m/Users/sebastianmunoznajar/Library/Enthought/Canopy_64bit/User/lib/python2.7/site-packages/requests/sessions.pyc\u001b[0m in \u001b[0;36mrequest\u001b[0;34m(self, method, url, params, data, headers, cookies, files, auth, timeout, allow_redirects, proxies, hooks, stream, verify, cert, json)\u001b[0m\n\u001b[1;32m    463\u001b[0m         }\n\u001b[1;32m    464\u001b[0m         \u001b[0msend_kwargs\u001b[0m\u001b[0;34m.\u001b[0m\u001b[0mupdate\u001b[0m\u001b[0;34m(\u001b[0m\u001b[0msettings\u001b[0m\u001b[0;34m)\u001b[0m\u001b[0;34m\u001b[0m\u001b[0m\n\u001b[0;32m--> 465\u001b[0;31m         \u001b[0mresp\u001b[0m \u001b[0;34m=\u001b[0m \u001b[0mself\u001b[0m\u001b[0;34m.\u001b[0m\u001b[0msend\u001b[0m\u001b[0;34m(\u001b[0m\u001b[0mprep\u001b[0m\u001b[0;34m,\u001b[0m \u001b[0;34m**\u001b[0m\u001b[0msend_kwargs\u001b[0m\u001b[0;34m)\u001b[0m\u001b[0;34m\u001b[0m\u001b[0m\n\u001b[0m\u001b[1;32m    466\u001b[0m \u001b[0;34m\u001b[0m\u001b[0m\n\u001b[1;32m    467\u001b[0m         \u001b[0;32mreturn\u001b[0m \u001b[0mresp\u001b[0m\u001b[0;34m\u001b[0m\u001b[0m\n",
      "\u001b[0;32m/Users/sebastianmunoznajar/Library/Enthought/Canopy_64bit/User/lib/python2.7/site-packages/requests/sessions.pyc\u001b[0m in \u001b[0;36msend\u001b[0;34m(self, request, **kwargs)\u001b[0m\n\u001b[1;32m    571\u001b[0m \u001b[0;34m\u001b[0m\u001b[0m\n\u001b[1;32m    572\u001b[0m         \u001b[0;31m# Send the request\u001b[0m\u001b[0;34m\u001b[0m\u001b[0;34m\u001b[0m\u001b[0m\n\u001b[0;32m--> 573\u001b[0;31m         \u001b[0mr\u001b[0m \u001b[0;34m=\u001b[0m \u001b[0madapter\u001b[0m\u001b[0;34m.\u001b[0m\u001b[0msend\u001b[0m\u001b[0;34m(\u001b[0m\u001b[0mrequest\u001b[0m\u001b[0;34m,\u001b[0m \u001b[0;34m**\u001b[0m\u001b[0mkwargs\u001b[0m\u001b[0;34m)\u001b[0m\u001b[0;34m\u001b[0m\u001b[0m\n\u001b[0m\u001b[1;32m    574\u001b[0m \u001b[0;34m\u001b[0m\u001b[0m\n\u001b[1;32m    575\u001b[0m         \u001b[0;31m# Total elapsed time of the request (approximately)\u001b[0m\u001b[0;34m\u001b[0m\u001b[0;34m\u001b[0m\u001b[0m\n",
      "\u001b[0;32m/Users/sebastianmunoznajar/Library/Enthought/Canopy_64bit/User/lib/python2.7/site-packages/requests/adapters.pyc\u001b[0m in \u001b[0;36msend\u001b[0;34m(self, request, stream, timeout, verify, cert, proxies)\u001b[0m\n\u001b[1;32m    413\u001b[0m \u001b[0;34m\u001b[0m\u001b[0m\n\u001b[1;32m    414\u001b[0m         \u001b[0;32mexcept\u001b[0m \u001b[0;34m(\u001b[0m\u001b[0mProtocolError\u001b[0m\u001b[0;34m,\u001b[0m \u001b[0msocket\u001b[0m\u001b[0;34m.\u001b[0m\u001b[0merror\u001b[0m\u001b[0;34m)\u001b[0m \u001b[0;32mas\u001b[0m \u001b[0merr\u001b[0m\u001b[0;34m:\u001b[0m\u001b[0;34m\u001b[0m\u001b[0m\n\u001b[0;32m--> 415\u001b[0;31m             \u001b[0;32mraise\u001b[0m \u001b[0mConnectionError\u001b[0m\u001b[0;34m(\u001b[0m\u001b[0merr\u001b[0m\u001b[0;34m,\u001b[0m \u001b[0mrequest\u001b[0m\u001b[0;34m=\u001b[0m\u001b[0mrequest\u001b[0m\u001b[0;34m)\u001b[0m\u001b[0;34m\u001b[0m\u001b[0m\n\u001b[0m\u001b[1;32m    416\u001b[0m \u001b[0;34m\u001b[0m\u001b[0m\n\u001b[1;32m    417\u001b[0m         \u001b[0;32mexcept\u001b[0m \u001b[0mMaxRetryError\u001b[0m \u001b[0;32mas\u001b[0m \u001b[0me\u001b[0m\u001b[0;34m:\u001b[0m\u001b[0;34m\u001b[0m\u001b[0m\n",
      "\u001b[0;31mConnectionError\u001b[0m: ('Connection aborted.', error(60, 'Operation timed out'))"
     ]
    }
   ],
   "source": [
    "readme1 = []\n",
    "count = 0\n",
    "for url in df.loc[(len(readme)-1):, 'html_url']:\n",
    "    if url:\n",
    "        a = BeautifulSoup(requests.get(url).text, \n",
    "              'html.parser').findAll('article', \n",
    "                                     attrs={'class':'markdown-body entry-content'})\n",
    "    if len(a) != 0:\n",
    "        readme1.append(a[0].text)\n",
    "    else:\n",
    "        readme1.append('None')\n",
    "    count += 1\n",
    "    if count >= 10 and count % 10 == 0:\n",
    "        print count,"
   ]
  },
  {
   "cell_type": "markdown",
   "metadata": {},
   "source": [
    "**I keep timing out!** after compiling the files I've gotten this far and making sure they don't overlap I'll run a new for loop with two second sleep time between iterations."
   ]
  },
  {
   "cell_type": "code",
   "execution_count": 137,
   "metadata": {
    "collapsed": false
   },
   "outputs": [
    {
     "name": "stdout",
     "output_type": "stream",
     "text": [
      "10 20 30 40 50 60 70 80 90 100 110 120 130 140 150 160 170 180 190 200 210 220 230 240 250 260 270 280 290 300 310 320 330 340 350 360 370 380 390 400 410 420 430 440 450 460 470 480 490 500 510 520 530 540 550 560 570 580 590 600 610 620 630 640 650 660 670 680 690 700 710 720 730 740 750 760 770 780 790 800 810 820 830 840 850 860 870 880 890 900 910 920 930 940 950 960 970 980 990 1000 1010 1020 1030 1040 1050 1060 1070 1080 1090 1100 1110 1120 1130 1140 1150 1160 1170 1180 1190 1200 1210 1220 1230 1240 1250 1260 1270 1280 1290 1300 1310 1320 1330 1340 1350 1360 1370 1380 1390 1400 1410 1420 1430 1440 1450 1460 1470 1480 1490 1500 1510 1520 1530 1540 1550 1560 1570 1580 1590 1600 1610 1620 1630 1640 1650 1660 1670 1680 1690 1700 1710 1720 1730 1740 1750 1760 1770 1780 1790 1800 1810 1820 1830 1840 1850 1860 1870 1880 1890 1900 1910 1920 1930 1940 1950 1960 1970 1980 1990 2000 2010 2020 2030 2040 2050 2060 2070 2080 2090 2100 2110 2120 2130 2140 2150 2160 2170 2180 2190 2200 2210 2220 2230 2240 2250 2260 2270 2280 2290 2300 2310 2320 2330 2340 2350 2360 2370 2380 2390 2400 2410 2420 2430 2440 2450 2460 2470 2480 2490 2500 2510 2520 2530 2540 2550 2560 2570 2580 2590 2600 2610 2620 2630 2640 2650 2660 2670 2680 2690 2700 2710 2720 2730 2740 2750 2760 2770 2780\n"
     ]
    }
   ],
   "source": [
    "readme1 = []\n",
    "count = 0\n",
    "for url in df.loc[(len(readme)-1):, 'html_url']:\n",
    "    time.sleep(2)\n",
    "    if url:\n",
    "        a = BeautifulSoup(requests.get(url).text, \n",
    "              'html.parser').findAll('article', \n",
    "                                     attrs={'class':'markdown-body entry-content'})\n",
    "    if len(a) != 0:\n",
    "        readme1.append(a[0].text)\n",
    "    else:\n",
    "        readme1.append('None')\n",
    "    count += 1\n",
    "    if count >= 10 and count % 10 == 0:\n",
    "        print count,"
   ]
  },
  {
   "cell_type": "code",
   "execution_count": 138,
   "metadata": {
    "collapsed": false
   },
   "outputs": [],
   "source": [
    "readme = readme + readme1[1:] # the first item of readme1 was the same as the last item of readme"
   ]
  },
  {
   "cell_type": "code",
   "execution_count": 139,
   "metadata": {
    "collapsed": false
   },
   "outputs": [
    {
     "data": {
      "text/plain": [
       "17366"
      ]
     },
     "execution_count": 139,
     "metadata": {},
     "output_type": "execute_result"
    }
   ],
   "source": [
    "len(readme)"
   ]
  },
  {
   "cell_type": "code",
   "execution_count": 141,
   "metadata": {
    "collapsed": false
   },
   "outputs": [],
   "source": [
    "readme_df = pd.concat([df['name'], pd.Series(readme, name='readme')], axis=1)"
   ]
  },
  {
   "cell_type": "code",
   "execution_count": 160,
   "metadata": {
    "collapsed": false,
    "scrolled": true
   },
   "outputs": [
    {
     "data": {
      "text/html": [
       "<div>\n",
       "<table border=\"1\" class=\"dataframe\">\n",
       "  <thead>\n",
       "    <tr style=\"text-align: right;\">\n",
       "      <th></th>\n",
       "      <th>name</th>\n",
       "      <th>readme</th>\n",
       "    </tr>\n",
       "  </thead>\n",
       "  <tbody>\n",
       "    <tr>\n",
       "      <th>0</th>\n",
       "      <td>scraper</td>\n",
       "      <td>scraper Scrapes sites. Gets news. Eventually e...</td>\n",
       "    </tr>\n",
       "    <tr>\n",
       "      <th>1</th>\n",
       "      <td>GoogleScraper</td>\n",
       "      <td>GoogleScraper - Scraping search engines profes...</td>\n",
       "    </tr>\n",
       "    <tr>\n",
       "      <th>2</th>\n",
       "      <td>scraper</td>\n",
       "      <td>scraper A simpler API for node-phantom web scr...</td>\n",
       "    </tr>\n",
       "    <tr>\n",
       "      <th>3</th>\n",
       "      <td>Amazon-Scraper</td>\n",
       "      <td>NaN</td>\n",
       "    </tr>\n",
       "    <tr>\n",
       "      <th>4</th>\n",
       "      <td>scraper</td>\n",
       "      <td>Scraper Scraper example built on Scala, Akka a...</td>\n",
       "    </tr>\n",
       "    <tr>\n",
       "      <th>5</th>\n",
       "      <td>form-scraper</td>\n",
       "      <td>Form Scraper - Scrape &amp; Submit forms Easily......</td>\n",
       "    </tr>\n",
       "    <tr>\n",
       "      <th>6</th>\n",
       "      <td>scrape-the-gibson</td>\n",
       "      <td>Scrape the Gibson These code snippets are the ...</td>\n",
       "    </tr>\n",
       "    <tr>\n",
       "      <th>7</th>\n",
       "      <td>trackback_scraper</td>\n",
       "      <td>Rap Genius Trackback Scraper This is the tool ...</td>\n",
       "    </tr>\n",
       "    <tr>\n",
       "      <th>8</th>\n",
       "      <td>web-scraper-chrome-extension</td>\n",
       "      <td>Web Scraper Web Scraper is a chrome browser ex...</td>\n",
       "    </tr>\n",
       "    <tr>\n",
       "      <th>9</th>\n",
       "      <td>social_scrapers</td>\n",
       "      <td>social_scrapers Various Python scripts to scra...</td>\n",
       "    </tr>\n",
       "    <tr>\n",
       "      <th>10</th>\n",
       "      <td>jne-tariff-scraper</td>\n",
       "      <td>JNE TARIFF SCRAPER Simple scraping method for ...</td>\n",
       "    </tr>\n",
       "    <tr>\n",
       "      <th>11</th>\n",
       "      <td>morph</td>\n",
       "      <td>morph.io: A scraping platform A Heroku for Scr...</td>\n",
       "    </tr>\n",
       "    <tr>\n",
       "      <th>12</th>\n",
       "      <td>Scraper</td>\n",
       "      <td>A web scraper which uses several heuristics to...</td>\n",
       "    </tr>\n",
       "    <tr>\n",
       "      <th>13</th>\n",
       "      <td>web-scraper</td>\n",
       "      <td>web-scraper Some node scripts for scraping mov...</td>\n",
       "    </tr>\n",
       "    <tr>\n",
       "      <th>14</th>\n",
       "      <td>WebScraping</td>\n",
       "      <td>NaN</td>\n",
       "    </tr>\n",
       "    <tr>\n",
       "      <th>15</th>\n",
       "      <td>scraper</td>\n",
       "      <td>NaN</td>\n",
       "    </tr>\n",
       "    <tr>\n",
       "      <th>16</th>\n",
       "      <td>scraper</td>\n",
       "      <td>NaN</td>\n",
       "    </tr>\n",
       "    <tr>\n",
       "      <th>17</th>\n",
       "      <td>scraper</td>\n",
       "      <td>scraper An image/video scraper for www.screens...</td>\n",
       "    </tr>\n",
       "    <tr>\n",
       "      <th>18</th>\n",
       "      <td>tripadvisor-scraper</td>\n",
       "      <td>TripAdvisor Scraper Only for educational purpo...</td>\n",
       "    </tr>\n",
       "    <tr>\n",
       "      <th>19</th>\n",
       "      <td>scraper</td>\n",
       "      <td>scraper An Android libray to scrape a webpage ...</td>\n",
       "    </tr>\n",
       "    <tr>\n",
       "      <th>20</th>\n",
       "      <td>unsplash-scraper</td>\n",
       "      <td>Unsplash Scraper What it do This simple script...</td>\n",
       "    </tr>\n",
       "    <tr>\n",
       "      <th>21</th>\n",
       "      <td>qcumber-scraper</td>\n",
       "      <td>qcumber-scraper This is the component of Qcumb...</td>\n",
       "    </tr>\n",
       "    <tr>\n",
       "      <th>22</th>\n",
       "      <td>node-request-cheerio-scraper</td>\n",
       "      <td>scraping hackernews. dumping to a csv. what el...</td>\n",
       "    </tr>\n",
       "    <tr>\n",
       "      <th>23</th>\n",
       "      <td>SmeegeScrape</td>\n",
       "      <td>NaN</td>\n",
       "    </tr>\n",
       "    <tr>\n",
       "      <th>24</th>\n",
       "      <td>scrapers</td>\n",
       "      <td>Code For Dayton Web Scrapers This project coll...</td>\n",
       "    </tr>\n",
       "    <tr>\n",
       "      <th>25</th>\n",
       "      <td>krake</td>\n",
       "      <td>Krake.js Krake is a library for declarative we...</td>\n",
       "    </tr>\n",
       "    <tr>\n",
       "      <th>26</th>\n",
       "      <td>blackboard_scraper</td>\n",
       "      <td>blackboard_scraper by Jason Giancono jasongi.c...</td>\n",
       "    </tr>\n",
       "    <tr>\n",
       "      <th>27</th>\n",
       "      <td>HMA-Proxy-Scraper</td>\n",
       "      <td>HMA-Proxy-Scraper Uses node.js to pull/parse w...</td>\n",
       "    </tr>\n",
       "    <tr>\n",
       "      <th>28</th>\n",
       "      <td>stack-scraper</td>\n",
       "      <td>Stack Scraper Stack Scraper is a system for ef...</td>\n",
       "    </tr>\n",
       "    <tr>\n",
       "      <th>29</th>\n",
       "      <td>scrapers</td>\n",
       "      <td>scrapers Scraping the web is fun actually</td>\n",
       "    </tr>\n",
       "    <tr>\n",
       "      <th>...</th>\n",
       "      <td>...</td>\n",
       "      <td>...</td>\n",
       "    </tr>\n",
       "    <tr>\n",
       "      <th>17336</th>\n",
       "      <td>Annals</td>\n",
       "      <td>Annals A wrapper built for my scraping API to ...</td>\n",
       "    </tr>\n",
       "    <tr>\n",
       "      <th>17337</th>\n",
       "      <td>gimmeHumour</td>\n",
       "      <td>gimmeHumour reddit scraper that provides a ran...</td>\n",
       "    </tr>\n",
       "    <tr>\n",
       "      <th>17338</th>\n",
       "      <td>ParkAssist.Server</td>\n",
       "      <td>ParkAssist.Server ParkAssist Backend Server &amp; ...</td>\n",
       "    </tr>\n",
       "    <tr>\n",
       "      <th>17339</th>\n",
       "      <td>datagovbe-tools-java</td>\n",
       "      <td>NaN</td>\n",
       "    </tr>\n",
       "    <tr>\n",
       "      <th>17340</th>\n",
       "      <td>warrnambool-weatherscrape</td>\n",
       "      <td>Warrnambool Weather Scraper - Node.js Requirem...</td>\n",
       "    </tr>\n",
       "    <tr>\n",
       "      <th>17341</th>\n",
       "      <td>amzscraper</td>\n",
       "      <td>Amazon Order Scraper This is a simple script u...</td>\n",
       "    </tr>\n",
       "    <tr>\n",
       "      <th>17342</th>\n",
       "      <td>MyReleaseFeed</td>\n",
       "      <td>MyReleaseFeed Releases scraper done with node....</td>\n",
       "    </tr>\n",
       "    <tr>\n",
       "      <th>17343</th>\n",
       "      <td>poltergeist_learning</td>\n",
       "      <td>NaN</td>\n",
       "    </tr>\n",
       "    <tr>\n",
       "      <th>17344</th>\n",
       "      <td>makebank</td>\n",
       "      <td>makebank Access transactions, download stateme...</td>\n",
       "    </tr>\n",
       "    <tr>\n",
       "      <th>17345</th>\n",
       "      <td>thelearningpoint.net</td>\n",
       "      <td>thelearningpoint.net Code snippets and scraper...</td>\n",
       "    </tr>\n",
       "    <tr>\n",
       "      <th>17346</th>\n",
       "      <td>TekCollect-proxied</td>\n",
       "      <td>NaN</td>\n",
       "    </tr>\n",
       "    <tr>\n",
       "      <th>17347</th>\n",
       "      <td>oddsforme</td>\n",
       "      <td>oddsforme Web Scraper for Odds and Predictions...</td>\n",
       "    </tr>\n",
       "    <tr>\n",
       "      <th>17348</th>\n",
       "      <td>jdan_scrapy</td>\n",
       "      <td>NaN</td>\n",
       "    </tr>\n",
       "    <tr>\n",
       "      <th>17349</th>\n",
       "      <td>tweescrape</td>\n",
       "      <td>Python Twitter Scraper Quick and dirty twitter...</td>\n",
       "    </tr>\n",
       "    <tr>\n",
       "      <th>17350</th>\n",
       "      <td>FASB</td>\n",
       "      <td>NaN</td>\n",
       "    </tr>\n",
       "    <tr>\n",
       "      <th>17351</th>\n",
       "      <td>samplescraper</td>\n",
       "      <td>NaN</td>\n",
       "    </tr>\n",
       "    <tr>\n",
       "      <th>17352</th>\n",
       "      <td>sports-api</td>\n",
       "      <td>SportsApi Installation Add this line to your a...</td>\n",
       "    </tr>\n",
       "    <tr>\n",
       "      <th>17353</th>\n",
       "      <td>casper_pets</td>\n",
       "      <td>CasperPets As discussed on Episode 196 of the ...</td>\n",
       "    </tr>\n",
       "    <tr>\n",
       "      <th>17354</th>\n",
       "      <td>mtgscraper</td>\n",
       "      <td>mtgscraper A scraper for magiccards.info that ...</td>\n",
       "    </tr>\n",
       "    <tr>\n",
       "      <th>17355</th>\n",
       "      <td>kivahelper</td>\n",
       "      <td>NaN</td>\n",
       "    </tr>\n",
       "    <tr>\n",
       "      <th>17356</th>\n",
       "      <td>kqv</td>\n",
       "      <td>kqv Scraper so I can read the programming sche...</td>\n",
       "    </tr>\n",
       "    <tr>\n",
       "      <th>17357</th>\n",
       "      <td>ESEAForumRankings</td>\n",
       "      <td>ESEAForumRankings web scraper using Groovy &amp; j...</td>\n",
       "    </tr>\n",
       "    <tr>\n",
       "      <th>17358</th>\n",
       "      <td>OKCscraper</td>\n",
       "      <td>OKCscraper Simple python scraper to convert sa...</td>\n",
       "    </tr>\n",
       "    <tr>\n",
       "      <th>17359</th>\n",
       "      <td>method-finder</td>\n",
       "      <td>method-finder A github scraper to get a list o...</td>\n",
       "    </tr>\n",
       "    <tr>\n",
       "      <th>17360</th>\n",
       "      <td>russianscraper</td>\n",
       "      <td>Russian scraper</td>\n",
       "    </tr>\n",
       "    <tr>\n",
       "      <th>17361</th>\n",
       "      <td>ratings</td>\n",
       "      <td>tv ratings web scraper Simple web scraper to g...</td>\n",
       "    </tr>\n",
       "    <tr>\n",
       "      <th>17362</th>\n",
       "      <td>notalwaysscraper</td>\n",
       "      <td>notalwaysscraper Scraper for various \"No alway...</td>\n",
       "    </tr>\n",
       "    <tr>\n",
       "      <th>17363</th>\n",
       "      <td>CodeIgniteralbright</td>\n",
       "      <td>NaN</td>\n",
       "    </tr>\n",
       "    <tr>\n",
       "      <th>17364</th>\n",
       "      <td>jobby</td>\n",
       "      <td>Jobby Web Scraper and Aggregator of job listin...</td>\n",
       "    </tr>\n",
       "    <tr>\n",
       "      <th>17365</th>\n",
       "      <td>bulbascraper</td>\n",
       "      <td># bulbascraper A php scraper for bulbapedia vi...</td>\n",
       "    </tr>\n",
       "  </tbody>\n",
       "</table>\n",
       "<p>17366 rows × 2 columns</p>\n",
       "</div>"
      ],
      "text/plain": [
       "                               name  \\\n",
       "0                           scraper   \n",
       "1                     GoogleScraper   \n",
       "2                           scraper   \n",
       "3                    Amazon-Scraper   \n",
       "4                           scraper   \n",
       "5                      form-scraper   \n",
       "6                 scrape-the-gibson   \n",
       "7                 trackback_scraper   \n",
       "8      web-scraper-chrome-extension   \n",
       "9                   social_scrapers   \n",
       "10               jne-tariff-scraper   \n",
       "11                            morph   \n",
       "12                          Scraper   \n",
       "13                      web-scraper   \n",
       "14                      WebScraping   \n",
       "15                          scraper   \n",
       "16                          scraper   \n",
       "17                          scraper   \n",
       "18              tripadvisor-scraper   \n",
       "19                          scraper   \n",
       "20                 unsplash-scraper   \n",
       "21                  qcumber-scraper   \n",
       "22     node-request-cheerio-scraper   \n",
       "23                     SmeegeScrape   \n",
       "24                         scrapers   \n",
       "25                            krake   \n",
       "26               blackboard_scraper   \n",
       "27                HMA-Proxy-Scraper   \n",
       "28                    stack-scraper   \n",
       "29                         scrapers   \n",
       "...                             ...   \n",
       "17336                        Annals   \n",
       "17337                   gimmeHumour   \n",
       "17338             ParkAssist.Server   \n",
       "17339          datagovbe-tools-java   \n",
       "17340     warrnambool-weatherscrape   \n",
       "17341                    amzscraper   \n",
       "17342                 MyReleaseFeed   \n",
       "17343          poltergeist_learning   \n",
       "17344                      makebank   \n",
       "17345          thelearningpoint.net   \n",
       "17346            TekCollect-proxied   \n",
       "17347                     oddsforme   \n",
       "17348                   jdan_scrapy   \n",
       "17349                    tweescrape   \n",
       "17350                          FASB   \n",
       "17351                 samplescraper   \n",
       "17352                    sports-api   \n",
       "17353                   casper_pets   \n",
       "17354                    mtgscraper   \n",
       "17355                    kivahelper   \n",
       "17356                           kqv   \n",
       "17357             ESEAForumRankings   \n",
       "17358                    OKCscraper   \n",
       "17359                 method-finder   \n",
       "17360                russianscraper   \n",
       "17361                       ratings   \n",
       "17362              notalwaysscraper   \n",
       "17363           CodeIgniteralbright   \n",
       "17364                         jobby   \n",
       "17365                  bulbascraper   \n",
       "\n",
       "                                                  readme  \n",
       "0      scraper Scrapes sites. Gets news. Eventually e...  \n",
       "1      GoogleScraper - Scraping search engines profes...  \n",
       "2      scraper A simpler API for node-phantom web scr...  \n",
       "3                                                    NaN  \n",
       "4      Scraper Scraper example built on Scala, Akka a...  \n",
       "5      Form Scraper - Scrape & Submit forms Easily......  \n",
       "6      Scrape the Gibson These code snippets are the ...  \n",
       "7      Rap Genius Trackback Scraper This is the tool ...  \n",
       "8      Web Scraper Web Scraper is a chrome browser ex...  \n",
       "9      social_scrapers Various Python scripts to scra...  \n",
       "10     JNE TARIFF SCRAPER Simple scraping method for ...  \n",
       "11     morph.io: A scraping platform A Heroku for Scr...  \n",
       "12     A web scraper which uses several heuristics to...  \n",
       "13     web-scraper Some node scripts for scraping mov...  \n",
       "14                                                   NaN  \n",
       "15                                                   NaN  \n",
       "16                                                   NaN  \n",
       "17     scraper An image/video scraper for www.screens...  \n",
       "18     TripAdvisor Scraper Only for educational purpo...  \n",
       "19     scraper An Android libray to scrape a webpage ...  \n",
       "20     Unsplash Scraper What it do This simple script...  \n",
       "21     qcumber-scraper This is the component of Qcumb...  \n",
       "22     scraping hackernews. dumping to a csv. what el...  \n",
       "23                                                   NaN  \n",
       "24     Code For Dayton Web Scrapers This project coll...  \n",
       "25     Krake.js Krake is a library for declarative we...  \n",
       "26     blackboard_scraper by Jason Giancono jasongi.c...  \n",
       "27     HMA-Proxy-Scraper Uses node.js to pull/parse w...  \n",
       "28     Stack Scraper Stack Scraper is a system for ef...  \n",
       "29             scrapers Scraping the web is fun actually  \n",
       "...                                                  ...  \n",
       "17336  Annals A wrapper built for my scraping API to ...  \n",
       "17337  gimmeHumour reddit scraper that provides a ran...  \n",
       "17338  ParkAssist.Server ParkAssist Backend Server & ...  \n",
       "17339                                                NaN  \n",
       "17340  Warrnambool Weather Scraper - Node.js Requirem...  \n",
       "17341  Amazon Order Scraper This is a simple script u...  \n",
       "17342  MyReleaseFeed Releases scraper done with node....  \n",
       "17343                                                NaN  \n",
       "17344  makebank Access transactions, download stateme...  \n",
       "17345  thelearningpoint.net Code snippets and scraper...  \n",
       "17346                                                NaN  \n",
       "17347  oddsforme Web Scraper for Odds and Predictions...  \n",
       "17348                                                NaN  \n",
       "17349  Python Twitter Scraper Quick and dirty twitter...  \n",
       "17350                                                NaN  \n",
       "17351                                                NaN  \n",
       "17352  SportsApi Installation Add this line to your a...  \n",
       "17353  CasperPets As discussed on Episode 196 of the ...  \n",
       "17354  mtgscraper A scraper for magiccards.info that ...  \n",
       "17355                                                NaN  \n",
       "17356  kqv Scraper so I can read the programming sche...  \n",
       "17357  ESEAForumRankings web scraper using Groovy & j...  \n",
       "17358  OKCscraper Simple python scraper to convert sa...  \n",
       "17359  method-finder A github scraper to get a list o...  \n",
       "17360                                    Russian scraper  \n",
       "17361  tv ratings web scraper Simple web scraper to g...  \n",
       "17362  notalwaysscraper Scraper for various \"No alway...  \n",
       "17363                                                NaN  \n",
       "17364  Jobby Web Scraper and Aggregator of job listin...  \n",
       "17365  # bulbascraper A php scraper for bulbapedia vi...  \n",
       "\n",
       "[17366 rows x 2 columns]"
      ]
     },
     "execution_count": 160,
     "metadata": {},
     "output_type": "execute_result"
    }
   ],
   "source": [
    "readme_df"
   ]
  },
  {
   "cell_type": "code",
   "execution_count": 148,
   "metadata": {
    "collapsed": false
   },
   "outputs": [],
   "source": [
    "readme_df['readme'] = readme_df['readme'].apply(lambda x: \" \".join(x.split()))"
   ]
  },
  {
   "cell_type": "code",
   "execution_count": 159,
   "metadata": {
    "collapsed": false
   },
   "outputs": [],
   "source": [
    "readme_df['readme'][readme_df['readme'] =='None'] = np.nan"
   ]
  },
  {
   "cell_type": "code",
   "execution_count": 180,
   "metadata": {
    "collapsed": false
   },
   "outputs": [],
   "source": [
    "readme_df['readme'] = readme_df['readme'].apply(lambda x: unicode(x) if type(x) == str else x)"
   ]
  },
  {
   "cell_type": "code",
   "execution_count": 161,
   "metadata": {
    "collapsed": false
   },
   "outputs": [],
   "source": [
    "readme_df.to_json(\"readmes.txt\")"
   ]
  },
  {
   "cell_type": "markdown",
   "metadata": {},
   "source": [
    "**So why get all the readme documents?** Here's a practical example:"
   ]
  },
  {
   "cell_type": "code",
   "execution_count": 216,
   "metadata": {
    "collapsed": false
   },
   "outputs": [
    {
     "name": "stdout",
     "output_type": "stream",
     "text": [
      "136 out of 17366 scrapers related to imdb\n",
      "8 out of 17366 scrapers related to okcupid\n",
      "182 out of 17366 scrapers related to facebook\n",
      "231 out of 17366 scrapers related to reddit\n",
      "64 out of 17366 scrapers related to linkedin\n"
     ]
    }
   ],
   "source": [
    "for i in ['imdb','okcupid','facebook','reddit','linkedin']:\n",
    "    print str(len([x for x in [x.lower() for x in readme_df['readme'][readme_df['readme'].notnull() == True]] if i in x]))+' out of 17366 scrapers related to '+i "
   ]
  },
  {
   "cell_type": "markdown",
   "metadata": {},
   "source": [
    "The idea is to learn **what** people are scraping, with what **coding language** and **when** in the last eight years."
   ]
  },
  {
   "cell_type": "code",
   "execution_count": null,
   "metadata": {
    "collapsed": false
   },
   "outputs": [],
   "source": []
  },
  {
   "cell_type": "code",
   "execution_count": null,
   "metadata": {
    "collapsed": false
   },
   "outputs": [],
   "source": []
  },
  {
   "cell_type": "markdown",
   "metadata": {},
   "source": [
    "##Section 3: Descriptive Stats"
   ]
  },
  {
   "cell_type": "code",
   "execution_count": 318,
   "metadata": {
    "collapsed": false
   },
   "outputs": [
    {
     "data": {
      "text/plain": [
       "<matplotlib.axes._subplots.AxesSubplot at 0x158b32650>"
      ]
     },
     "execution_count": 318,
     "metadata": {},
     "output_type": "execute_result"
    },
    {
     "data": {
      "image/png": "[encoded data removed]",
      "text/plain": [
       "<matplotlib.figure.Figure at 0x1583bec10>"
      ]
     },
     "metadata": {},
     "output_type": "display_data"
    }
   ],
   "source": [
    "df.language.value_counts().plot(kind='bar', logy='True', colormap = 'rainbow')"
   ]
  },
  {
   "cell_type": "code",
   "execution_count": 317,
   "metadata": {
    "collapsed": false
   },
   "outputs": [
    {
     "data": {
      "text/plain": [
       "<matplotlib.axes._subplots.AxesSubplot at 0x1556b39d0>"
      ]
     },
     "execution_count": 317,
     "metadata": {},
     "output_type": "execute_result"
    },
    {
     "data": {
      "image/png": "[encoded data removed]",
      "text/plain": [
       "<matplotlib.figure.Figure at 0x158c241d0>"
      ]
     },
     "metadata": {},
     "output_type": "display_data"
    }
   ],
   "source": [
    "df.groupby(by=['created_ym'])['language'].value_counts().unstack(level=0).T[['Python','Ruby',\n",
    "                                                                             'JavaScript','PHP',\n",
    "                                                                             'Java','HTML','C#','Perl',\n",
    "                                                                              'R','CoffeeScript']].plot(kind='line',\n",
    "                                                                                         colormap='spectral')\n"
   ]
  },
  {
   "cell_type": "markdown",
   "metadata": {},
   "source": [
    "Ruby vs Python until 2011-08, Ruby > Javascript until late 2013. Ruby is the only language without cuts."
   ]
  },
  {
   "cell_type": "code",
   "execution_count": 345,
   "metadata": {
    "collapsed": false
   },
   "outputs": [
    {
     "data": {
      "text/html": [
       "<div>\n",
       "<table border=\"1\" class=\"dataframe\">\n",
       "  <thead>\n",
       "    <tr style=\"text-align: right;\">\n",
       "      <th>language</th>\n",
       "      <th>Python</th>\n",
       "      <th>JavaScript</th>\n",
       "      <th>Ruby</th>\n",
       "      <th>PHP</th>\n",
       "      <th>R</th>\n",
       "      <th>Java</th>\n",
       "    </tr>\n",
       "  </thead>\n",
       "  <tbody>\n",
       "    <tr>\n",
       "      <th>stargazers_count</th>\n",
       "      <td>3.980076</td>\n",
       "      <td>6.799114</td>\n",
       "      <td>3.255896</td>\n",
       "      <td>5.064378</td>\n",
       "      <td>3.493333</td>\n",
       "      <td>0.904826</td>\n",
       "    </tr>\n",
       "    <tr>\n",
       "      <th>size</th>\n",
       "      <td>1943.196937</td>\n",
       "      <td>2076.908213</td>\n",
       "      <td>971.194182</td>\n",
       "      <td>1622.687768</td>\n",
       "      <td>11501.022222</td>\n",
       "      <td>5336.528150</td>\n",
       "    </tr>\n",
       "    <tr>\n",
       "      <th>forks_count</th>\n",
       "      <td>1.285526</td>\n",
       "      <td>0.975845</td>\n",
       "      <td>0.571541</td>\n",
       "      <td>1.019313</td>\n",
       "      <td>1.302222</td>\n",
       "      <td>0.328418</td>\n",
       "    </tr>\n",
       "    <tr>\n",
       "      <th>open_issues_count</th>\n",
       "      <td>0.318788</td>\n",
       "      <td>0.478663</td>\n",
       "      <td>0.316431</td>\n",
       "      <td>0.226395</td>\n",
       "      <td>0.448889</td>\n",
       "      <td>0.234584</td>\n",
       "    </tr>\n",
       "    <tr>\n",
       "      <th>score_round</th>\n",
       "      <td>2.181307</td>\n",
       "      <td>2.357927</td>\n",
       "      <td>2.226333</td>\n",
       "      <td>2.259828</td>\n",
       "      <td>2.221867</td>\n",
       "      <td>2.097011</td>\n",
       "    </tr>\n",
       "  </tbody>\n",
       "</table>\n",
       "</div>"
      ],
      "text/plain": [
       "language                Python   JavaScript        Ruby          PHP  \\\n",
       "stargazers_count      3.980076     6.799114    3.255896     5.064378   \n",
       "size               1943.196937  2076.908213  971.194182  1622.687768   \n",
       "forks_count           1.285526     0.975845    0.571541     1.019313   \n",
       "open_issues_count     0.318788     0.478663    0.316431     0.226395   \n",
       "score_round           2.181307     2.357927    2.226333     2.259828   \n",
       "\n",
       "language                      R         Java  \n",
       "stargazers_count       3.493333     0.904826  \n",
       "size               11501.022222  5336.528150  \n",
       "forks_count            1.302222     0.328418  \n",
       "open_issues_count      0.448889     0.234584  \n",
       "score_round            2.221867     2.097011  "
      ]
     },
     "execution_count": 345,
     "metadata": {},
     "output_type": "execute_result"
    }
   ],
   "source": [
    "df.groupby(by='language')[['stargazers_count',\n",
    "                           'size','forks_count',\n",
    "                           'open_issues_count','score_round']].mean().T[['Python','JavaScript', 'Ruby', \n",
    "                                                                         'PHP','R', 'Java']]"
   ]
  },
  {
   "cell_type": "markdown",
   "metadata": {},
   "source": [
    "##Section 4: Tokenizers & Dendograms"
   ]
  },
  {
   "cell_type": "code",
   "execution_count": 65,
   "metadata": {
    "collapsed": false
   },
   "outputs": [],
   "source": [
    "readme_df = pd.read_json('readmes.txt')\n",
    "from sklearn.feature_extraction.text import TfidfVectorizer\n",
    "import matplotlib.pyplot as plt\n",
    "from sklearn.metrics.pairwise import cosine_similarity\n",
    "from scipy.cluster.hierarchy import ward, dendrogram, linkage"
   ]
  },
  {
   "cell_type": "markdown",
   "metadata": {},
   "source": [
    "An interesting trait of the data is that a vectorizer with min_df of 0.5returns an empty dictionary. Lower thresholds also return very small lists. This means that there very few common terms in the corpus. \n",
    "\n",
    "I'll use a first vectorizer to find stop words. "
   ]
  },
  {
   "cell_type": "code",
   "execution_count": 19,
   "metadata": {
    "collapsed": false
   },
   "outputs": [
    {
     "name": "stdout",
     "output_type": "stream",
     "text": [
      "able access account activate add added additional address allows analysis api app application apt arguments author automatically available based basic beautiful beautifulsoup best better bin browser build built called case cd change changes check class clone code collection com command comments config configuration contain containing contains content copy copyright course crawl crawler create created csv current currently data database date day db default dependencies description details dev development different directory django docs documentation does doesn don download downloaded downloading downloads easily easy edit email en end enter environment error example examples execute export extract features feed feel fields file files folder follow following form format framework free function functions future general generate getting git github given good google grab help home html http https id image images import include included includes including index info information input install installation installed installing instead instructions interface issue issues items job json just key know later latest level libraries library license like line link links list little ll load local location log look lot lxml main make makes match message method mit modify module modules morph multiple named names need needed needs net new news non note notes number object open option optional options order org output outputs package packages page pages parse parser parsing particular password path people pip point possible post posts price print probably process program project projects provide provided provides public pull purpose py python query questions quick read really reddit related repo repository request requests required requirements requires result results return returns right root run running runs sample save saved scrape scraped scraper scrapers scrapes scraping scrapy script scripts search second section select selenium send server service set settings setup sh simple simply single site sites small software soup source specific specified specify spider sql sqlite start started state status store stored stores string structure sudo support sure table takes terminal terms test tested tests text things time times title todo tool tools true try twitter txt type update updated url urls usage use used useful user username users uses using value values various ve version virtualenv want way web website websites windows work working works write written www xml year\n"
     ]
    }
   ],
   "source": [
    "vectorizer_sp=TfidfVectorizer(stop_words='english', use_idf=True, token_pattern=r'(?u)\\b[a-z][a-z]+\\b', min_df=0.02)\n",
    "document_term_matrix_sp=vectorizer_sp.fit_transform(readme_df[(readme_df['language'] == 'Python') & (readme_df['readme'].notnull())]['readme'])\n",
    "vocab_sp = vectorizer_sp.get_feature_names()\n",
    "for i in vocab_sp:\n",
    "    print i,"
   ]
  },
  {
   "cell_type": "code",
   "execution_count": 20,
   "metadata": {
    "collapsed": true
   },
   "outputs": [],
   "source": [
    "vocab_sp_rev = []\n",
    "for i in vocab_sp:\n",
    "    if i != 'reddit' and i !=  'tweeter' and i != 'github':\n",
    "        vocab_sp_rev.append(i)\n",
    "        "
   ]
  },
  {
   "cell_type": "code",
   "execution_count": 61,
   "metadata": {
    "collapsed": true
   },
   "outputs": [],
   "source": [
    "import nltk\n",
    "from nltk.corpus import stopwords\n",
    "all_sw = stopwords.words('english')+vocab_sp_rev + more_stops\n",
    "stop_str = \"wanted learn learning plano world official mechanize argument years tags tag comment wrote old term apps como sources archive place pandas records grasa abdomen incinerador according across action actual actually adding addresses admin age agent allow along already always amount analyze another answer answers anything apache apis appear appears append appropriate around array aspx associated attempt attribute attributes authentication authors auto average avoid back background bad bajar bank bar barriga base bash basically basis big bit box br branch brand break brew budget bug bugs building bunch bus business ca cache caching calendar call calls campaign candidate card cards cases catalog categories category celery certain cfg changed character characters checking checks chicago child choice choose chrome city classes clean cleaning cli click client close co codes collect collected collects come comes commands common complete completed computer con conditions conf configure connect connection console contained contents context control convert cookie cookies copies correct correctly corresponding could count couple crawled crawling crawls creates creating creation credentials cron crontab crummy css csstarget curl dataset datasets dates datetime datos days dc dd de deal debug decided def defaults define defined definition del delay delete depending deploy der design designed desired detail detailed determine developed developer di dict dictionaries dictionary die dir directly dirty disclaimer display distribute distributed div doc docker document documents dom domain domains done downloader due dump dumps duplicate duplicates easier either el element elements else empty enabled engine english enjoy enough ensure entire entries entry env errors es etc even event events eventually every everything ex exactly excel except exchange execution exist existing exists exit express extension external extra extracted extracting extracts false far fast faster feature fetch fetcher fetching field figure filename fill filter final finally finding finds fine finished firefox fix flag flask follows foo fork formats formatted formatting frequency front full fun functionality gather generated generates gets give gives global glossary gnu go goal goes going graph great group groups gui guide handle handling hard head header headers high hit host hosted hour hours house however hr href idea ids il imdb imgur implement implementation implemented implied important improve inc incident individual ini initial initialize insert inside instance int integer intended interactive interest interested interesting internet intro introduction io ip ipython item javascript join js keep keys keyword keywords kind known la label language large last layout least left length less let lets li liability liable lib likely limit limited lines linux listed lists loaded loading localhost locally located locations logging logic login logs long looking looks los mac machine made making manage manually many master matches matching max maximum maybe means meant members memory menu merge methods might mine minimum minute minutes missing mkdir mkvirtualenv mlb mm mode model models modified moment mongo mongodb monitor month mostly move much multi must mysql navigate necessary network never next nice night node nodes none notebook nothing notice null numbers objects obtain often ones online original os others otherwise overview para parameter parameters params parsed parses part parts party pass passed past paste pattern pdf pdfs per perform performance period permission phantomjs php pickle pipeline pipelines plain platform plugin popular populate por port position posted postgres postgresql pprint pre prediction prerequisites present press pretty previous primary prints problem problems processed processing programming programs progress prompt proper properly property proxies proxy pulls purposes push put pyllage pypi pyquery quality que quemar queries question queue quickly quotes random range rank rankings rate rather raw re reading readme readthedocs ready real reason rebajar received recent recommend recommended refer reference regex register regular release released releases relevant remove rename replace report reporting reports require research resource resources response rest resulting retrieve retrieved returned row rows ruby saves saving schema scrap scrapper scrapyd screen se searches searching seconds seems selector selectors self sell sends sent sentence separate separated serve servers session sets setting several shall share shell short show shows similar since size sleep something sometimes soon sort span special specifically speed spiders split spreadsheet sqlalchemy ssh standard starting statement static stdout step steps still stock stop storing strings structured stuff style sub subject submit summary supported supports system tab tables take taken target task tasks tell template templates testing thanks thing think third though thread threads three timestamp tmp together token tor total track tracker tree tried tries trying turn tutorial types ubuntu ul un una und unicode unique unit unix updates upload upon urllib us usr usually utf utility valid var varchar variable variables venv verbose versions via view virtual virtualenvwrapper vs wait warning webpage webscraper webscraping welcome well wget whatever whether whole window within without word words wrapper xpath yet yield zip\"\n",
    "more_stops= stop_str.split()\n",
    "all_sw = stopwords.words('english')+vocab_sp_rev + more_stops"
   ]
  },
  {
   "cell_type": "code",
   "execution_count": 60,
   "metadata": {
    "collapsed": true
   },
   "outputs": [],
   "source": [
    "#I've ran the vectorizer several times and picked these words manually\n",
    "stop_str = \"wanted learn learning plano world official mechanize argument years tags tag comment wrote old term apps como sources archive place pandas records grasa abdomen incinerador according across action actual actually adding addresses admin age agent allow along already always amount analyze another answer answers anything apache apis appear appears append appropriate around array aspx associated attempt attribute attributes authentication authors auto average avoid back background bad bajar bank bar barriga base bash basically basis big bit box br branch brand break brew budget bug bugs building bunch bus business ca cache caching calendar call calls campaign candidate card cards cases catalog categories category celery certain cfg changed character characters checking checks chicago child choice choose chrome city classes clean cleaning cli click client close co codes collect collected collects come comes commands common complete completed computer con conditions conf configure connect connection console contained contents context control convert cookie cookies copies correct correctly corresponding could count couple crawled crawling crawls creates creating creation credentials cron crontab crummy css csstarget curl dataset datasets dates datetime datos days dc dd de deal debug decided def defaults define defined definition del delay delete depending deploy der design designed desired detail detailed determine developed developer di dict dictionaries dictionary die dir directly dirty disclaimer display distribute distributed div doc docker document documents dom domain domains done downloader due dump dumps duplicate duplicates easier either el element elements else empty enabled engine english enjoy enough ensure entire entries entry env errors es etc even event events eventually every everything ex exactly excel except exchange execution exist existing exists exit express extension external extra extracted extracting extracts false far fast faster feature fetch fetcher fetching field figure filename fill filter final finally finding finds fine finished firefox fix flag flask follows foo fork formats formatted formatting frequency front full fun functionality gather generated generates gets give gives global glossary gnu go goal goes going graph great group groups gui guide handle handling hard head header headers high hit host hosted hour hours house however hr href idea ids il imdb imgur implement implementation implemented implied important improve inc incident individual ini initial initialize insert inside instance int integer intended interactive interest interested interesting internet intro introduction io ip ipython item javascript join js keep keys keyword keywords kind known la label language large last layout least left length less let lets li liability liable lib likely limit limited lines linux listed lists loaded loading localhost locally located locations logging logic login logs long looking looks los mac machine made making manage manually many master matches matching max maximum maybe means meant members memory menu merge methods might mine minimum minute minutes missing mkdir mkvirtualenv mlb mm mode model models modified moment mongo mongodb monitor month mostly move much multi must mysql navigate necessary network never next nice night node nodes none notebook nothing notice null numbers objects obtain often ones online original os others otherwise overview para parameter parameters params parsed parses part parts party pass passed past paste pattern pdf pdfs per perform performance period permission phantomjs php pickle pipeline pipelines plain platform plugin popular populate por port position posted postgres postgresql pprint pre prediction prerequisites present press pretty previous primary prints problem problems processed processing programming programs progress prompt proper properly property proxies proxy pulls purposes push put pyllage pypi pyquery quality que quemar queries question queue quickly quotes random range rank rankings rate rather raw re reading readme readthedocs ready real reason rebajar received recent recommend recommended refer reference regex register regular release released releases relevant remove rename replace report reporting reports require research resource resources response rest resulting retrieve retrieved returned row rows ruby saves saving schema scrap scrapper scrapyd screen se searches searching seconds seems selector selectors self sell sends sent sentence separate separated serve servers session sets setting several shall share shell short show shows similar since size sleep something sometimes soon sort span special specifically speed spiders split spreadsheet sqlalchemy ssh standard starting statement static stdout step steps still stock stop storing strings structured stuff style sub subject submit summary supported supports system tab tables take taken target task tasks tell template templates testing thanks thing think third though thread threads three timestamp tmp together token tor total track tracker tree tried tries trying turn tutorial types ubuntu ul un una und unicode unique unit unix updates upload upon urllib us usr usually utf utility valid var varchar variable variables venv verbose versions via view virtual virtualenvwrapper vs wait warning webpage webscraper webscraping welcome well wget whatever whether whole window within without word words wrapper xpath yet yield zip\"\n",
    "more_stops= stop_str.split()\n",
    "all_sw = stopwords.words('english')+vocab_sp_rev + more_stops"
   ]
  },
  {
   "cell_type": "code",
   "execution_count": 62,
   "metadata": {
    "collapsed": true
   },
   "outputs": [],
   "source": []
  },
  {
   "cell_type": "code",
   "execution_count": 63,
   "metadata": {
    "collapsed": false,
    "scrolled": true
   },
   "outputs": [
    {
     "name": "stdout",
     "output_type": "stream",
     "text": [
      "amazon article articles artist blog board bot column columns companies company contact country courses craigslist custom daily department edu election emails facebook forum game games get get get see gmail gov heroku history instagram jobs licensed linkedin listing listings live mail manager map media messages metadata movie movies name name nba nginx person play player players prices product products profile published rating reddit redis review reviews rights rss schedule school score scraperwiki season series services social songs stack statistics stats subreddit team titles top topic tv tweet tweets uk university video videos votes warranty week wiki wikipedia wish writes writing yahoo yelp youtube\n"
     ]
    }
   ],
   "source": [
    "vectorizer=TfidfVectorizer(stop_words=all_sw, use_idf=True, token_pattern=r'(?u)\\b[a-z][a-z]+\\b', max_features=100, max_df=0.05, ngram_range=(1, 2))\n",
    "document_term_matrix=vectorizer.fit_transform(readme_df[(readme_df['language'] == 'Python') & (readme_df['readme'].notnull())]['readme'])\n",
    "vocab = vectorizer.get_feature_names()\n",
    "for i in vocab:\n",
    "    print i,"
   ]
  },
  {
   "cell_type": "code",
   "execution_count": 64,
   "metadata": {
    "collapsed": false
   },
   "outputs": [
    {
     "data": {
      "image/png": "[encoded data removed]",
      "text/plain": [
       "<matplotlib.figure.Figure at 0x115191dd0>"
      ]
     },
     "metadata": {},
     "output_type": "display_data"
    }
   ],
   "source": [
    "dtm_trans=document_term_matrix.T\n",
    "dist=1-cosine_similarity(dtm_trans)\n",
    "linkage_matrix=ward(dist)\n",
    "f=plt.figure(figsize=(9,30))\n",
    "R=dendrogram(linkage_matrix, orientation=\"right\", labels=vocab)\n",
    "plt.tight_layout()"
   ]
  },
  {
   "cell_type": "code",
   "execution_count": null,
   "metadata": {
    "collapsed": false
   },
   "outputs": [],
   "source": [
    "#heroku, nginx, redis\n",
    "#try 75\n",
    "#look at  stemming"
   ]
  },
  {
   "cell_type": "code",
   "execution_count": 85,
   "metadata": {
    "collapsed": false
   },
   "outputs": [
    {
     "data": {
      "image/png": "[encoded data removed]",
      "text/plain": [
       "<matplotlib.figure.Figure at 0x11845a910>"
      ]
     },
     "metadata": {},
     "output_type": "display_data"
    }
   ],
   "source": [
    "stop_str = \"please found find two first would one may messages forum png rss custom titles hn metadata blog edu demo services meta jewelry ejercicios statistics licensed daily week schedule phone manager emails history core board uk top country get see writes name writing live stack nginx topic column columns wish published social media wanted learn learning plano world official mechanize argument years tags tag comment wrote old term apps como sources archive place pandas records grasa abdomen incinerador according across action actual actually adding addresses admin age agent allow along already always amount analyze another answer answers anything apache apis appear appears append appropriate around array aspx associated attempt attribute attributes authentication authors auto average avoid back background bad bajar bank bar barriga base bash basically basis big bit box br branch brand break brew budget bug bugs building bunch bus business ca cache caching calendar call calls campaign candidate card cards cases catalog categories category celery certain cfg changed character characters checking checks chicago child choice choose chrome city classes clean cleaning cli click client close co codes collect collected collects come comes commands common complete completed computer con conditions conf configure connect connection console contained contents context control convert cookie cookies copies correct correctly corresponding could count couple crawled crawling crawls creates creating creation credentials cron crontab crummy css csstarget curl dataset datasets dates datetime datos days dc dd de deal debug decided def defaults define defined definition del delay delete depending deploy der design designed desired detail detailed determine developed developer di dict dictionaries dictionary die dir directly dirty disclaimer display distribute distributed div doc docker document documents dom domain domains done downloader due dump dumps duplicate duplicates easier either el element elements else empty enabled engine english enjoy enough ensure entire entries entry env errors es etc even event events eventually every everything ex exactly excel except exchange execution exist existing exists exit express extension external extra extracted extracting extracts false far fast faster feature fetch fetcher fetching field figure filename fill filter final finally finding finds fine finished firefox fix flag flask follows foo fork formats formatted formatting frequency front full fun functionality gather generated generates gets give gives global glossary gnu go goal goes going graph great group groups gui guide handle handling hard head header headers high hit host hosted hour hours house however hr href idea ids il imdb imgur implement implementation implemented implied important improve inc incident individual ini initial initialize insert inside instance int integer intended interactive interest interested interesting internet intro introduction io ip ipython item javascript join js keep keys keyword keywords kind known la label language large last layout least left length less let lets li liability liable lib likely limit limited lines linux listed lists loaded loading localhost locally located locations logging logic login logs long looking looks los mac machine made making manage manually many master matches matching max maximum maybe means meant members memory menu merge methods might mine minimum minute minutes missing mkdir mkvirtualenv mlb mm mode model models modified moment mongo mongodb monitor month mostly move much multi must mysql navigate necessary network never next nice night node nodes none notebook nothing notice null numbers objects obtain often ones online original os others otherwise overview para parameter parameters params parsed parses part parts party pass passed past paste pattern pdf pdfs per perform performance period permission phantomjs php pickle pipeline pipelines plain platform plugin popular populate por port position posted postgres postgresql pprint pre prediction prerequisites present press pretty previous primary prints problem problems processed processing programming programs progress prompt proper properly property proxies proxy pulls purposes push put pyllage pypi pyquery quality que quemar queries question queue quickly quotes random range rank rankings rate rather raw re reading readme readthedocs ready real reason rebajar received recent recommend recommended refer reference regex register regular release released releases relevant remove rename replace report reporting reports require research resource resources response rest resulting retrieve retrieved returned row rows ruby saves saving schema scrap scrapper scrapyd screen se searches searching seconds seems selector selectors self sell sends sent sentence separate separated serve servers session sets setting several shall share shell short show shows similar since size sleep something sometimes soon sort span special specifically speed spiders split spreadsheet sqlalchemy ssh standard starting statement static stdout step steps still stock stop storing strings structured stuff style sub subject submit summary supported supports system tab tables take taken target task tasks tell template templates testing thanks thing think third though thread threads three timestamp tmp together token tor total track tracker tree tried tries trying turn tutorial types ubuntu ul un una und unicode unique unit unix updates upload upon urllib us usr usually utf utility valid var varchar variable variables venv verbose versions via view virtual virtualenvwrapper vs wait warning webpage webscraper webscraping welcome well wget whatever whether whole window within without word words wrapper xpath yet yield zip\"\n",
    "more_stops= stop_str.split()\n",
    "all_sw = stopwords.words('english')+vocab_sp_rev + more_stops\n",
    "vectorizer=TfidfVectorizer(stop_words=all_sw, use_idf=True, token_pattern=r'(?u)\\b[a-z][a-z]+\\b', max_features=50, max_df=0.1, ngram_range = (1,2))\n",
    "document_term_matrix=vectorizer.fit_transform(readme_df[(readme_df['language'] == 'Python') & (readme_df['readme'].notnull())]['readme'])\n",
    "vocab = vectorizer.get_feature_names()\n",
    "dtm_trans=document_term_matrix.T\n",
    "dist=1-cosine_similarity(dtm_trans)\n",
    "linkage_matrix=ward(dist)\n",
    "f=plt.figure(figsize=(9,30))\n",
    "R=dendrogram(linkage_matrix, orientation=\"right\", labels=vocab)\n",
    "plt.tight_layout()"
   ]
  },
  {
   "cell_type": "code",
   "execution_count": null,
   "metadata": {
    "collapsed": true
   },
   "outputs": [],
   "source": []
  },
  {
   "cell_type": "code",
   "execution_count": 78,
   "metadata": {
    "collapsed": false
   },
   "outputs": [
    {
     "data": {
      "image/png": "[encoded data removed]",
      "text/plain": [
       "<matplotlib.figure.Figure at 0x110dee250>"
      ]
     },
     "metadata": {},
     "output_type": "display_data"
    }
   ],
   "source": [
    "# As an alternative to Ward I tried all the algorithms available in linkage, \n",
    "#none of them improved the first set of clusters\n",
    "#the one displayed below made most sense\n",
    "linkage_matrix2=linkage(dist, method='single')\n",
    "f=plt.figure(figsize=(9,30))\n",
    "R=dendrogram(linkage_matrix2, orientation=\"right\", labels=vocab)\n",
    "plt.tight_layout()"
   ]
  },
  {
   "cell_type": "code",
   "execution_count": null,
   "metadata": {
    "collapsed": true
   },
   "outputs": [],
   "source": []
  },
  {
   "cell_type": "markdown",
   "metadata": {},
   "source": [
    "##Section 5: Repo clusters by README topics"
   ]
  },
  {
   "cell_type": "markdown",
   "metadata": {
    "collapsed": true
   },
   "source": [
    "See 'topics_analysis.ipynb' "
   ]
  },
  {
   "cell_type": "code",
   "execution_count": null,
   "metadata": {
    "collapsed": true
   },
   "outputs": [],
   "source": []
  }
 ],
 "metadata": {
  "kernelspec": {
   "display_name": "Python 2",
   "language": "python",
   "name": "python2"
  },
  "language_info": {
   "codemirror_mode": {
    "name": "ipython",
    "version": 2
   },
   "file_extension": ".py",
   "mimetype": "text/x-python",
   "name": "python",
   "nbconvert_exporter": "python",
   "pygments_lexer": "ipython2",
   "version": "2.7.9"
  }
 },
 "nbformat": 4,
 "nbformat_minor": 0
}
